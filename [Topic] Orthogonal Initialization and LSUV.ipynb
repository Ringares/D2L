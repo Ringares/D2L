{
 "cells": [
  {
   "cell_type": "code",
   "execution_count": 206,
   "metadata": {},
   "outputs": [],
   "source": [
    "import numpy as np\n",
    "import torch"
   ]
  },
  {
   "cell_type": "code",
   "execution_count": 207,
   "metadata": {},
   "outputs": [],
   "source": [
    "# SVD 实现正交初始化\n",
    "def orthogonal_init(shape, gain=1.):\n",
    "    flat_shape = (shape[0], np.prod(shape[1:]))\n",
    "    a = np.random.normal(0., 1., flat_shape)\n",
    "    u, d, vt = np.linalg.svd(a, full_matrices=False)\n",
    "    # pick the one with the correct shape\n",
    "#     print('u' if u.shape == flat_shape else 'v')\n",
    "    q = u if u.shape == flat_shape else vt\n",
    "    q = q.reshape(shape)\n",
    "    return gain*q"
   ]
  },
  {
   "cell_type": "code",
   "execution_count": 208,
   "metadata": {},
   "outputs": [],
   "source": [
    "shape = (4, 4)"
   ]
  },
  {
   "cell_type": "code",
   "execution_count": 209,
   "metadata": {},
   "outputs": [],
   "source": [
    "x = orthogonal_init(shape)"
   ]
  },
  {
   "cell_type": "code",
   "execution_count": 210,
   "metadata": {},
   "outputs": [
    {
     "data": {
      "text/plain": [
       "tensor([[ 0.2355,  0.3814, -0.8635,  0.2311],\n",
       "        [-0.9007,  0.0673, -0.2985, -0.3085],\n",
       "        [-0.3626,  0.1880,  0.2212,  0.8856],\n",
       "        [-0.0432, -0.9026, -0.3410,  0.2592]])"
      ]
     },
     "execution_count": 210,
     "metadata": {},
     "output_type": "execute_result"
    }
   ],
   "source": [
    "# pytorch 正交初始化(PQ 分解)\n",
    "w = torch.empty(shape)\n",
    "torch.nn.init.orthogonal_(w)"
   ]
  },
  {
   "cell_type": "code",
   "execution_count": 211,
   "metadata": {},
   "outputs": [
    {
     "data": {
      "text/plain": [
       "(-1.0000000000000002, 0.99999964)"
      ]
     },
     "execution_count": 211,
     "metadata": {},
     "output_type": "execute_result"
    }
   ],
   "source": [
    "np.linalg.det(x), np.linalg.det(w)"
   ]
  },
  {
   "cell_type": "code",
   "execution_count": 212,
   "metadata": {},
   "outputs": [
    {
     "data": {
      "text/plain": [
       "1.0000000000000018"
      ]
     },
     "execution_count": 212,
     "metadata": {},
     "output_type": "execute_result"
    }
   ],
   "source": [
    "np.linalg.det(x@x@x@x)"
   ]
  },
  {
   "cell_type": "markdown",
   "metadata": {},
   "source": [
    "行列式为+-1, 不缩放"
   ]
  },
  {
   "cell_type": "code",
   "execution_count": 213,
   "metadata": {},
   "outputs": [],
   "source": [
    "# 特征值分解\n",
    "e_value, e_vector = np.linalg.eig(w)"
   ]
  },
  {
   "cell_type": "code",
   "execution_count": 214,
   "metadata": {},
   "outputs": [
    {
     "name": "stdout",
     "output_type": "stream",
     "text": [
      "True\n"
     ]
    },
    {
     "data": {
      "text/plain": [
       "array([[ 0.23550886+0.j,  0.38135552+0.j, -0.8635328 +0.j,\n",
       "         0.23111524+0.j],\n",
       "       [-0.9006835 +0.j,  0.06726437+0.j, -0.29849133+0.j,\n",
       "        -0.30846   +0.j],\n",
       "       [-0.36255038+0.j,  0.18804774+0.j,  0.22118758+0.j,\n",
       "         0.8855909 +0.j],\n",
       "       [-0.04315106+0.j, -0.9025969 +0.j, -0.34101295+0.j,\n",
       "         0.25916567+0.j]], dtype=complex64)"
      ]
     },
     "execution_count": 214,
     "metadata": {},
     "output_type": "execute_result"
    }
   ],
   "source": [
    "print(np.allclose(e_vector@np.diag(e_value)@np.linalg.inv(e_vector), w))\n",
    "e_vector@np.diag(e_value)@np.linalg.inv(e_vector)"
   ]
  },
  {
   "cell_type": "code",
   "execution_count": 215,
   "metadata": {},
   "outputs": [
    {
     "data": {
      "text/plain": [
       "False"
      ]
     },
     "execution_count": 215,
     "metadata": {},
     "output_type": "execute_result"
    }
   ],
   "source": [
    "np.allclose(w@w, e_vector@(np.diag(e_value)**2)@np.linalg.inv(e_vector))"
   ]
  },
  {
   "cell_type": "markdown",
   "metadata": {},
   "source": [
    "https://smerity.com/articles/2016/orthogonal_init.html\n",
    "\n",
    "$\n",
    "\\begin{aligned}\n",
    "F^{2} &=\\left(Q \\Lambda Q^{-1}\\right)\\left(Q \\Lambda Q^{-1}\\right) \\\\\n",
    "&=Q \\Lambda\\left(Q^{-1} Q\\right) \\Lambda Q^{-1} \\\\\n",
    "&=Q \\Lambda^{2} Q^{-1}\n",
    "\\end{aligned}\n",
    "$"
   ]
  },
  {
   "cell_type": "code",
   "execution_count": null,
   "metadata": {},
   "outputs": [],
   "source": []
  }
 ],
 "metadata": {
  "kernelspec": {
   "display_name": "py3_torch_kernel",
   "language": "python",
   "name": "py3_torch_kernel"
  },
  "language_info": {
   "codemirror_mode": {
    "name": "ipython",
    "version": 3
   },
   "file_extension": ".py",
   "mimetype": "text/x-python",
   "name": "python",
   "nbconvert_exporter": "python",
   "pygments_lexer": "ipython3",
   "version": "3.6.9"
  }
 },
 "nbformat": 4,
 "nbformat_minor": 4
}
