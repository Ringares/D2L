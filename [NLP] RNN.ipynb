{
 "cells": [
  {
   "cell_type": "code",
   "execution_count": 1,
   "metadata": {},
   "outputs": [],
   "source": [
    "import torch\n",
    "import torch.nn as nn\n",
    "import torchviz\n",
    "import sys; sys.path.insert(0, '../')\n",
    "from exp import nb_d2l_utils"
   ]
  },
  {
   "cell_type": "code",
   "execution_count": 2,
   "metadata": {},
   "outputs": [],
   "source": [
    "rnn = nn.RNN(10, 20, 2)\n",
    "input = torch.randn(5, 3, 10)\n",
    "h0 = torch.randn(2, 3, 20)\n",
    "output, hn = rnn(input, h0)"
   ]
  },
  {
   "cell_type": "code",
   "execution_count": 3,
   "metadata": {},
   "outputs": [],
   "source": [
    "### RNN Language Model"
   ]
  },
  {
   "cell_type": "code",
   "execution_count": 9,
   "metadata": {},
   "outputs": [],
   "source": [
    "import collections\n",
    "class Vocab(object):  # This class is saved in d2l.\n",
    "    def __init__(self, tokens, min_freq=0, use_special_tokens=False):\n",
    "        # sort by frequency and token\n",
    "        counter = collections.Counter(tokens)\n",
    "        token_freqs = sorted(counter.items(), key=lambda x: x[0])\n",
    "        token_freqs.sort(key=lambda x: x[1], reverse=True)\n",
    "        if use_special_tokens:\n",
    "            # padding, begin of sentence, end of sentence, unknown\n",
    "            self.pad, self.bos, self.eos, self.unk = (0, 1, 2, 3)\n",
    "            tokens = ['<pad>', '<bos>', '<eos>', '<unk>']\n",
    "        else:\n",
    "            self.unk = 0\n",
    "            tokens = ['<unk>']\n",
    "        tokens +=  [token for token, freq in token_freqs if freq >= min_freq]\n",
    "        self.idx_to_token = []\n",
    "        self.token_to_idx = dict()\n",
    "        for token in tokens:\n",
    "            self.idx_to_token.append(token)\n",
    "            self.token_to_idx[token] = len(self.idx_to_token) - 1\n",
    "\n",
    "    def __len__(self):\n",
    "        return len(self.idx_to_token)\n",
    "\n",
    "    def __getitem__(self, tokens):\n",
    "        if not isinstance(tokens, (list, tuple)):\n",
    "            return self.token_to_idx.get(tokens, self.unk)\n",
    "        else:\n",
    "            return [self.__getitem__(token) for token in tokens]\n",
    "\n",
    "    def to_tokens(self, indices):\n",
    "        if not isinstance(indices, (list, tuple)):\n",
    "            return self.idx_to_token[indices]\n",
    "        else:\n",
    "            return [self.idx_to_token[index] for index in indices]\n",
    "        \n",
    "def cn_pre_process(raw_text):\n",
    "    text = raw_text.replace('\\n', ' ')\n",
    "    vocab = Vocab(text, min_freq=5)\n",
    "    return [vocab[i] for i in text], vocab\n",
    "\n",
    "with open('./data/jaychou_lyrics.txt', 'r') as f:\n",
    "    raw_text = f.read()\n",
    "    \n",
    "# 连续采样\n",
    "import random\n",
    "def data_iter_consecutive(corpus_indices, batch_size, num_steps, device=None):\n",
    "    # Offset for the iterator over the data for uniform starts\n",
    "    offset = int(random.uniform(0,num_steps))\n",
    "    # Slice out data - ignore num_steps and just wrap around\n",
    "    num_indices = ((len(corpus_indices) - offset) // batch_size) * batch_size\n",
    "    indices = torch.Tensor(corpus_indices[offset:(offset + num_indices)], device=device)\n",
    "    indices = indices.reshape((batch_size,-1))\n",
    "    # Need to leave one last token since targets are shifted by 1\n",
    "    num_epochs = (num_indices // batch_size - 1) // num_steps\n",
    "\n",
    "    for i in range(0, num_epochs * num_steps, num_steps):\n",
    "        X = indices[:,i:(i+num_steps)]\n",
    "        Y = indices[:,(i+1):(i+1+num_steps)]\n",
    "        yield X, Y    "
   ]
  },
  {
   "cell_type": "code",
   "execution_count": 11,
   "metadata": {},
   "outputs": [],
   "source": [
    "corpus_indices, vocab = cn_pre_process(raw_text)\n",
    "dataloader = data_iter_consecutive(corpus_indices, 3, 10)"
   ]
  },
  {
   "cell_type": "code",
   "execution_count": 13,
   "metadata": {},
   "outputs": [
    {
     "name": "stdout",
     "output_type": "stream",
     "text": [
      "tensor([[1.9000e+01, 2.3400e+02, 4.0000e+00, 8.9000e+02, 2.6700e+02, 7.0000e+00,\n",
      "         6.0000e+00, 6.8000e+01, 1.0000e+00, 8.9000e+02],\n",
      "        [3.5200e+02, 1.1000e+01, 6.5000e+01, 1.0290e+03, 0.0000e+00, 6.7000e+01,\n",
      "         2.8700e+02, 1.0000e+00, 5.0000e+01, 1.2000e+01],\n",
      "        [1.3600e+02, 1.0000e+00, 3.0000e+00, 1.9000e+01, 2.4200e+02, 2.4600e+02,\n",
      "         1.8900e+02, 2.8000e+01, 2.0000e+00, 0.0000e+00]])\n",
      "tensor([[2.3400e+02, 4.0000e+00, 8.9000e+02, 2.6700e+02, 7.0000e+00, 6.0000e+00,\n",
      "         6.8000e+01, 1.0000e+00, 8.9000e+02, 2.6700e+02],\n",
      "        [1.1000e+01, 6.5000e+01, 1.0290e+03, 0.0000e+00, 6.7000e+01, 2.8700e+02,\n",
      "         1.0000e+00, 5.0000e+01, 1.2000e+01, 1.7000e+01],\n",
      "        [1.0000e+00, 3.0000e+00, 1.9000e+01, 2.4200e+02, 2.4600e+02, 1.8900e+02,\n",
      "         2.8000e+01, 2.0000e+00, 0.0000e+00, 0.0000e+00]])\n",
      "['要', '和', '你', '融', '化', '在', '一', '起', ' ', '融']\n",
      "['堡', '\\u3000', '像', '欧', '<unk>', '情', '调', ' ', '对', '着']\n",
      "['力', ' ', '我', '要', '做', '音', '乐', '上', '的', '<unk>']\n",
      "['和', '你', '融', '化', '在', '一', '起', ' ', '融', '化']\n",
      "['\\u3000', '像', '欧', '<unk>', '情', '调', ' ', '对', '着', '这']\n",
      "[' ', '我', '要', '做', '音', '乐', '上', '的', '<unk>', '<unk>']\n"
     ]
    }
   ],
   "source": [
    "for X, Y in dataloader:\n",
    "    print(X)\n",
    "    print(Y)\n",
    "    for i in X:\n",
    "        print(vocab.to_tokens([int(i) for i in i]))\n",
    "    for i in Y:\n",
    "        print(vocab.to_tokens([int(i) for i in i]))\n",
    "    break"
   ]
  },
  {
   "cell_type": "code",
   "execution_count": 16,
   "metadata": {},
   "outputs": [],
   "source": [
    "def predict_ch8(prefix, num_predicts, model, vocab, device):  #@save\n",
    "    state = model.begin_state(batch_size=1, device=device)\n",
    "    outputs = [vocab[prefix[0]]]\n",
    "    get_input = lambda: torch.tensor(\n",
    "        [outputs[-1]], device=device).reshape(1, 1)\n",
    "    for y in prefix[1:]:  # Warmup state with prefix\n",
    "        _, state = model(get_input(), state)\n",
    "        outputs.append(vocab[y])\n",
    "    for _ in range(num_predicts):  # Predict num_predicts steps\n",
    "        Y, state = model(get_input(), state)\n",
    "        outputs.append(int(Y.argmax(dim=1).reshape(1)))\n",
    "    return ''.join([vocab.idx_to_token[i] for i in outputs])\n"
   ]
  },
  {
   "cell_type": "code",
   "execution_count": 19,
   "metadata": {},
   "outputs": [
    {
     "data": {
      "text/plain": [
       "14.198569999999998"
      ]
     },
     "execution_count": 19,
     "metadata": {},
     "output_type": "execute_result"
    }
   ],
   "source": [
    "1.7**5"
   ]
  },
  {
   "cell_type": "code",
   "execution_count": 20,
   "metadata": {},
   "outputs": [
    {
     "data": {
      "text/plain": [
       "10.285714285714286"
      ]
     },
     "execution_count": 20,
     "metadata": {},
     "output_type": "execute_result"
    }
   ],
   "source": [
    "72/7"
   ]
  },
  {
   "cell_type": "code",
   "execution_count": null,
   "metadata": {},
   "outputs": [],
   "source": []
  }
 ],
 "metadata": {
  "kernelspec": {
   "display_name": "py3_torch_kernel",
   "language": "python",
   "name": "py3_torch_kernel"
  },
  "language_info": {
   "codemirror_mode": {
    "name": "ipython",
    "version": 3
   },
   "file_extension": ".py",
   "mimetype": "text/x-python",
   "name": "python",
   "nbconvert_exporter": "python",
   "pygments_lexer": "ipython3",
   "version": "3.6.9"
  }
 },
 "nbformat": 4,
 "nbformat_minor": 4
}
