{
 "cells": [
  {
   "cell_type": "code",
   "execution_count": 1,
   "metadata": {
    "ExecuteTime": {
     "end_time": "2020-05-16T06:18:47.651452Z",
     "start_time": "2020-05-16T06:18:43.672128Z"
    }
   },
   "outputs": [],
   "source": [
    "%load_ext autoreload\n",
    "%autoreload 2\n",
    "%matplotlib inline"
   ]
  },
  {
   "cell_type": "code",
   "execution_count": 3,
   "metadata": {
    "ExecuteTime": {
     "end_time": "2020-05-16T06:18:57.237764Z",
     "start_time": "2020-05-16T06:18:57.210584Z"
    }
   },
   "outputs": [],
   "source": [
    "import torch\n",
    "import numpy as np"
   ]
  },
  {
   "cell_type": "markdown",
   "metadata": {
    "ExecuteTime": {
     "end_time": "2020-05-10T03:14:58.943836Z",
     "start_time": "2020-05-10T03:14:58.929796Z"
    }
   },
   "source": [
    "### Frobenius Norm\n",
    "\n",
    "$ \\|A\\|_{F}=\\left(\\sum_{i, j=1}^{n}\\left|a_{i j}\\right|^{2}\\right)^{1 / 2} $"
   ]
  },
  {
   "cell_type": "code",
   "execution_count": 4,
   "metadata": {
    "ExecuteTime": {
     "end_time": "2020-05-16T06:18:58.002838Z",
     "start_time": "2020-05-16T06:18:57.975679Z"
    }
   },
   "outputs": [
    {
     "data": {
      "text/plain": [
       "tensor(16.8819)"
      ]
     },
     "execution_count": 4,
     "metadata": {},
     "output_type": "execute_result"
    }
   ],
   "source": [
    "# m.pow(2).sum().sqrt()\n",
    "m = torch.tensor([[1., 2., 3.], [4., 5., 6.], [7., 8., 9.]])\n",
    "f_norm = (m*m).sum().sqrt()\n",
    "f_norm"
   ]
  },
  {
   "cell_type": "markdown",
   "metadata": {},
   "source": [
    "### LogSumExp Trick"
   ]
  },
  {
   "cell_type": "code",
   "execution_count": 5,
   "metadata": {
    "ExecuteTime": {
     "end_time": "2020-05-16T06:18:58.294345Z",
     "start_time": "2020-05-16T06:18:58.258551Z"
    }
   },
   "outputs": [],
   "source": [
    "def log_softmax(x):\n",
    "    return x - x.exp().sum(dim=1, keepdim=True).log()"
   ]
  },
  {
   "cell_type": "code",
   "execution_count": 6,
   "metadata": {
    "ExecuteTime": {
     "end_time": "2020-05-16T06:18:58.432755Z",
     "start_time": "2020-05-16T06:18:58.396902Z"
    }
   },
   "outputs": [],
   "source": [
    "x = torch.randn((5, 10))"
   ]
  },
  {
   "cell_type": "code",
   "execution_count": 7,
   "metadata": {
    "ExecuteTime": {
     "end_time": "2020-05-16T06:18:58.568648Z",
     "start_time": "2020-05-16T06:18:58.532387Z"
    }
   },
   "outputs": [
    {
     "data": {
      "text/plain": [
       "tensor([[-3.9745, -1.9283, -1.8805, -3.5326, -4.6810, -0.7468, -4.0603, -2.0907,\n",
       "         -3.9964, -4.4486],\n",
       "        [-1.4806, -2.7260, -3.4181, -5.7936, -2.8813, -4.7144, -0.8175, -3.8692,\n",
       "         -2.3374, -3.0540],\n",
       "        [-4.4816, -1.3152, -4.1283, -2.1932, -2.6104, -1.9580, -3.5252, -1.4919,\n",
       "         -2.1523, -4.9168],\n",
       "        [-2.9285, -2.3237, -3.2521, -2.8977, -2.4422, -1.8775, -2.6166, -1.5765,\n",
       "         -1.6758, -3.0381],\n",
       "        [-4.6495, -2.2351, -2.8170, -1.9827, -1.9888, -2.8896, -1.1889, -2.2132,\n",
       "         -3.2881, -3.1634]])"
      ]
     },
     "execution_count": 7,
     "metadata": {},
     "output_type": "execute_result"
    }
   ],
   "source": [
    "log_softmax(x)"
   ]
  },
  {
   "cell_type": "code",
   "execution_count": 8,
   "metadata": {
    "ExecuteTime": {
     "end_time": "2020-05-16T06:18:58.947030Z",
     "start_time": "2020-05-16T06:18:58.899325Z"
    }
   },
   "outputs": [
    {
     "data": {
      "text/plain": [
       "tensor([[-3.9745, -1.9283, -1.8805, -3.5326, -4.6810, -0.7468, -4.0603, -2.0907,\n",
       "         -3.9964, -4.4486],\n",
       "        [-1.4806, -2.7260, -3.4181, -5.7936, -2.8813, -4.7144, -0.8175, -3.8692,\n",
       "         -2.3374, -3.0540],\n",
       "        [-4.4816, -1.3152, -4.1283, -2.1932, -2.6104, -1.9580, -3.5252, -1.4919,\n",
       "         -2.1523, -4.9168],\n",
       "        [-2.9285, -2.3237, -3.2521, -2.8977, -2.4422, -1.8775, -2.6166, -1.5765,\n",
       "         -1.6758, -3.0381],\n",
       "        [-4.6495, -2.2351, -2.8170, -1.9827, -1.9888, -2.8896, -1.1889, -2.2132,\n",
       "         -3.2881, -3.1634]])"
      ]
     },
     "execution_count": 8,
     "metadata": {},
     "output_type": "execute_result"
    }
   ],
   "source": [
    "(x.exp() / x.exp().sum(dim=1, keepdim=True)).log()"
   ]
  },
  {
   "cell_type": "markdown",
   "metadata": {},
   "source": [
    "### BatchNorm"
   ]
  },
  {
   "cell_type": "code",
   "execution_count": 16,
   "metadata": {
    "ExecuteTime": {
     "end_time": "2020-05-16T06:23:17.493003Z",
     "start_time": "2020-05-16T06:23:17.466251Z"
    }
   },
   "outputs": [
    {
     "data": {
      "text/plain": [
       "tensor([[[[ 0.,  1.,  2.],\n",
       "          [ 3.,  4.,  5.],\n",
       "          [ 6.,  7.,  8.]],\n",
       "\n",
       "         [[ 9., 10., 11.],\n",
       "          [12., 13., 14.],\n",
       "          [15., 16., 17.]]],\n",
       "\n",
       "\n",
       "        [[[18., 19., 20.],\n",
       "          [21., 22., 23.],\n",
       "          [24., 25., 26.]],\n",
       "\n",
       "         [[27., 28., 29.],\n",
       "          [30., 31., 32.],\n",
       "          [33., 34., 35.]]]])"
      ]
     },
     "execution_count": 16,
     "metadata": {},
     "output_type": "execute_result"
    }
   ],
   "source": [
    "x = torch.arange(36, dtype=torch.float32).view(2,2,3,3)\n",
    "x"
   ]
  },
  {
   "cell_type": "code",
   "execution_count": 17,
   "metadata": {
    "ExecuteTime": {
     "end_time": "2020-05-16T06:23:39.736586Z",
     "start_time": "2020-05-16T06:23:39.706539Z"
    }
   },
   "outputs": [
    {
     "data": {
      "text/plain": [
       "tensor([13., 22.])"
      ]
     },
     "execution_count": 17,
     "metadata": {},
     "output_type": "execute_result"
    }
   ],
   "source": [
    "x.mean((0,2,3))"
   ]
  },
  {
   "cell_type": "code",
   "execution_count": 19,
   "metadata": {
    "ExecuteTime": {
     "end_time": "2020-05-16T06:25:50.229997Z",
     "start_time": "2020-05-16T06:25:50.186451Z"
    }
   },
   "outputs": [
    {
     "data": {
      "text/plain": [
       "tensor([ 8.5000, 26.5000])"
      ]
     },
     "execution_count": 19,
     "metadata": {},
     "output_type": "execute_result"
    }
   ],
   "source": [
    "x.mean((1,2,3))"
   ]
  },
  {
   "cell_type": "code",
   "execution_count": null,
   "metadata": {},
   "outputs": [],
   "source": []
  }
 ],
 "metadata": {
  "kernelspec": {
   "display_name": "Python 3",
   "language": "python",
   "name": "python3"
  },
  "language_info": {
   "codemirror_mode": {
    "name": "ipython",
    "version": 3
   },
   "file_extension": ".py",
   "mimetype": "text/x-python",
   "name": "python",
   "nbconvert_exporter": "python",
   "pygments_lexer": "ipython3",
   "version": "3.7.7"
  },
  "toc": {
   "base_numbering": 1,
   "nav_menu": {},
   "number_sections": true,
   "sideBar": true,
   "skip_h1_title": false,
   "title_cell": "Table of Contents",
   "title_sidebar": "Contents",
   "toc_cell": false,
   "toc_position": {},
   "toc_section_display": true,
   "toc_window_display": false
  }
 },
 "nbformat": 4,
 "nbformat_minor": 4
}
