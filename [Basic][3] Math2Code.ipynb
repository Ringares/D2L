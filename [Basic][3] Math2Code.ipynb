{
 "cells": [
  {
   "cell_type": "code",
   "execution_count": null,
   "metadata": {
    "ExecuteTime": {
     "end_time": "2020-05-10T14:20:07.008105Z",
     "start_time": "2020-05-10T14:20:06.800225Z"
    }
   },
   "outputs": [
    {
     "name": "stderr",
     "output_type": "stream",
     "text": [
      "/Users/ring/anaconda3/lib/python3.7/site-packages/matplotlib/font_manager.py:232: UserWarning: Matplotlib is building the font cache using fc-list. This may take a moment.\n",
      "  'Matplotlib is building the font cache using fc-list. '\n"
     ]
    }
   ],
   "source": [
    "%load_ext autoreload\n",
    "%autoreload 2\n",
    "%matplotlib inline"
   ]
  },
  {
   "cell_type": "code",
   "execution_count": 1,
   "metadata": {
    "ExecuteTime": {
     "end_time": "2020-05-10T14:20:08.011683Z",
     "start_time": "2020-05-10T14:20:07.975052Z"
    }
   },
   "outputs": [],
   "source": [
    "import torch\n",
    "import numpy as np\n",
    "import sys; sys.path.insert(0, '../')\n",
    "import d2l_utils\n"
   ]
  },
  {
   "cell_type": "markdown",
   "metadata": {
    "ExecuteTime": {
     "end_time": "2020-05-10T03:14:58.943836Z",
     "start_time": "2020-05-10T03:14:58.929796Z"
    }
   },
   "source": [
    "### Frobenius Norm\n",
    "\n",
    "$ \\|A\\|_{F}=\\left(\\sum_{i, j=1}^{n}\\left|a_{i j}\\right|^{2}\\right)^{1 / 2} $"
   ]
  },
  {
   "cell_type": "code",
   "execution_count": 2,
   "metadata": {
    "ExecuteTime": {
     "end_time": "2020-05-10T03:15:40.126268Z",
     "start_time": "2020-05-10T03:15:40.075662Z"
    }
   },
   "outputs": [
    {
     "data": {
      "text/plain": [
       "tensor(16.8819)"
      ]
     },
     "execution_count": 2,
     "metadata": {},
     "output_type": "execute_result"
    }
   ],
   "source": [
    "# m.pow(2).sum().sqrt()\n",
    "m = torch.tensor([[1., 2., 3.], [4., 5., 6.], [7., 8., 9.]])\n",
    "f_norm = (m*m).sum().sqrt()\n",
    "f_norm"
   ]
  },
  {
   "cell_type": "markdown",
   "metadata": {},
   "source": [
    "### LogSumExp Trick"
   ]
  },
  {
   "cell_type": "code",
   "execution_count": 24,
   "metadata": {},
   "outputs": [],
   "source": [
    "def log_softmax(x):\n",
    "    return x - x.exp().sum(dim=1, keepdim=True).log()"
   ]
  },
  {
   "cell_type": "code",
   "execution_count": 16,
   "metadata": {},
   "outputs": [],
   "source": [
    "x = torch.randn((5, 10))"
   ]
  },
  {
   "cell_type": "code",
   "execution_count": 25,
   "metadata": {},
   "outputs": [
    {
     "data": {
      "text/plain": [
       "tensor([[-1.5990, -2.9929, -1.9000, -2.9940, -1.4537, -2.5590, -3.2426, -2.2780,\n",
       "         -3.1151, -2.9740],\n",
       "        [-2.7759, -3.8839, -2.8086, -1.7732, -1.3537, -2.7896, -1.8001, -2.7134,\n",
       "         -2.4613, -2.9879],\n",
       "        [-2.1890, -2.3988, -1.6702, -2.8960, -3.8096, -2.5454, -1.7930, -2.8419,\n",
       "         -1.5902, -3.7113],\n",
       "        [-3.8566, -2.3175, -2.5298, -3.6260, -1.3387, -1.1425, -4.7282, -3.4781,\n",
       "         -2.3760, -2.8099],\n",
       "        [-2.9109, -2.6100, -2.6462, -1.0076, -4.2123, -2.2533, -1.6469, -2.8753,\n",
       "         -3.2819, -3.5216]])"
      ]
     },
     "execution_count": 25,
     "metadata": {},
     "output_type": "execute_result"
    }
   ],
   "source": [
    "log_softmax(x)"
   ]
  },
  {
   "cell_type": "code",
   "execution_count": 22,
   "metadata": {},
   "outputs": [
    {
     "data": {
      "text/plain": [
       "tensor([[-1.5990, -2.9929, -1.9000, -2.9940, -1.4537, -2.5590, -3.2426, -2.2780,\n",
       "         -3.1151, -2.9740],\n",
       "        [-2.7759, -3.8839, -2.8086, -1.7732, -1.3537, -2.7896, -1.8001, -2.7134,\n",
       "         -2.4613, -2.9879],\n",
       "        [-2.1890, -2.3988, -1.6702, -2.8960, -3.8096, -2.5454, -1.7930, -2.8419,\n",
       "         -1.5902, -3.7113],\n",
       "        [-3.8566, -2.3175, -2.5298, -3.6260, -1.3387, -1.1425, -4.7282, -3.4781,\n",
       "         -2.3760, -2.8099],\n",
       "        [-2.9109, -2.6100, -2.6462, -1.0076, -4.2123, -2.2533, -1.6469, -2.8753,\n",
       "         -3.2819, -3.5216]])"
      ]
     },
     "execution_count": 22,
     "metadata": {},
     "output_type": "execute_result"
    }
   ],
   "source": [
    "(x.exp() / x.exp().sum(dim=1, keepdim=True)).log()"
   ]
  }
 ],
 "metadata": {
  "kernelspec": {
   "display_name": "py3_torch_kernel",
   "language": "python",
   "name": "py3_torch_kernel"
  },
  "language_info": {
   "codemirror_mode": {
    "name": "ipython",
    "version": 3
   },
   "file_extension": ".py",
   "mimetype": "text/x-python",
   "name": "python",
   "nbconvert_exporter": "python",
   "pygments_lexer": "ipython3",
   "version": "3.6.9"
  },
  "toc": {
   "base_numbering": 1,
   "nav_menu": {},
   "number_sections": true,
   "sideBar": true,
   "skip_h1_title": false,
   "title_cell": "Table of Contents",
   "title_sidebar": "Contents",
   "toc_cell": false,
   "toc_position": {},
   "toc_section_display": true,
   "toc_window_display": false
  }
 },
 "nbformat": 4,
 "nbformat_minor": 4
}
