{
 "cells": [
  {
   "cell_type": "code",
   "execution_count": 74,
   "metadata": {
    "ExecuteTime": {
     "end_time": "2020-05-10T14:20:07.008105Z",
     "start_time": "2020-05-10T14:20:06.800225Z"
    }
   },
   "outputs": [],
   "source": [
    "%load_ext autoreload\n",
    "%autoreload 2\n",
    "%matplotlib inline"
   ]
  },
  {
   "cell_type": "code",
   "execution_count": 75,
   "metadata": {
    "ExecuteTime": {
     "end_time": "2020-05-10T14:20:08.011683Z",
     "start_time": "2020-05-10T14:20:07.975052Z"
    }
   },
   "outputs": [],
   "source": [
    "import torch\n",
    "import numpy as np\n",
    "import sys; sys.path.insert(0, '../')\n",
    "import d2l_utils\n"
   ]
  },
  {
   "cell_type": "markdown",
   "metadata": {
    "ExecuteTime": {
     "end_time": "2020-05-10T03:14:58.943836Z",
     "start_time": "2020-05-10T03:14:58.929796Z"
    }
   },
   "source": [
    "### Frobenius Norm\n",
    "\n",
    "$ \\|A\\|_{F}=\\left(\\sum_{i, j=1}^{n}\\left|a_{i j}\\right|^{2}\\right)^{1 / 2} $"
   ]
  },
  {
   "cell_type": "code",
   "execution_count": 3,
   "metadata": {
    "ExecuteTime": {
     "end_time": "2020-05-10T03:15:40.126268Z",
     "start_time": "2020-05-10T03:15:40.075662Z"
    }
   },
   "outputs": [
    {
     "data": {
      "text/plain": [
       "tensor(16.8819)"
      ]
     },
     "execution_count": 3,
     "metadata": {},
     "output_type": "execute_result"
    }
   ],
   "source": [
    "# m.pow(2).sum().sqrt()\n",
    "m = torch.tensor([[1., 2., 3.], [4., 5., 6.], [7., 8., 9.]])\n",
    "f_norm = (m*m).sum().sqrt()\n",
    "f_norm"
   ]
  }
 ],
 "metadata": {
  "kernelspec": {
   "display_name": "Python 3",
   "language": "python",
   "name": "python3"
  },
  "language_info": {
   "codemirror_mode": {
    "name": "ipython",
    "version": 3
   },
   "file_extension": ".py",
   "mimetype": "text/x-python",
   "name": "python",
   "nbconvert_exporter": "python",
   "pygments_lexer": "ipython3",
   "version": "3.7.7"
  },
  "toc": {
   "base_numbering": 1,
   "nav_menu": {},
   "number_sections": true,
   "sideBar": true,
   "skip_h1_title": false,
   "title_cell": "Table of Contents",
   "title_sidebar": "Contents",
   "toc_cell": false,
   "toc_position": {},
   "toc_section_display": true,
   "toc_window_display": false
  }
 },
 "nbformat": 4,
 "nbformat_minor": 4
}
