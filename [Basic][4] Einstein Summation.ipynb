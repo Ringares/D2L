{
 "cells": [
  {
   "cell_type": "code",
   "execution_count": 2,
   "metadata": {},
   "outputs": [
    {
     "name": "stdout",
     "output_type": "stream",
     "text": [
      "1.3.1\n"
     ]
    }
   ],
   "source": [
    "import numpy as np\n",
    "import torch\n",
    "\n",
    "print(torch.__version__)"
   ]
  },
  {
   "cell_type": "code",
   "execution_count": 18,
   "metadata": {},
   "outputs": [
    {
     "data": {
      "text/plain": [
       "(array([0, 1, 2, 3, 4, 5]),\n",
       " array([ 5,  6,  7,  8,  9, 10]),\n",
       " tensor([0, 1, 2, 3, 4, 5]),\n",
       " tensor([ 5,  6,  7,  8,  9, 10]))"
      ]
     },
     "execution_count": 18,
     "metadata": {},
     "output_type": "execute_result"
    }
   ],
   "source": [
    "np_a = np.arange(6)\n",
    "np_b = np.arange(5,11)\n",
    "t_a = torch.from_numpy(np_a)\n",
    "t_b = torch.from_numpy(np_b)\n",
    "np_a, np_b, t_a, t_b"
   ]
  },
  {
   "cell_type": "code",
   "execution_count": 23,
   "metadata": {},
   "outputs": [
    {
     "data": {
      "text/plain": [
       "(array([[0, 1, 2],\n",
       "        [3, 4, 5]]), array([[ 5,  6,  7],\n",
       "        [ 8,  9, 10]]), tensor([[0, 1, 2],\n",
       "         [3, 4, 5]]), tensor([[ 5,  6,  7],\n",
       "         [ 8,  9, 10]]))"
      ]
     },
     "execution_count": 23,
     "metadata": {},
     "output_type": "execute_result"
    }
   ],
   "source": [
    "np_A = np.arange(6).reshape(2,3)\n",
    "np_B = np.arange(5,11).reshape(2,3)\n",
    "t_A = torch.from_numpy(np_A)\n",
    "t_B = torch.from_numpy(np_B)\n",
    "np_A, np_B, t_A, t_B"
   ]
  },
  {
   "cell_type": "markdown",
   "metadata": {},
   "source": [
    "### element-wise multiply"
   ]
  },
  {
   "cell_type": "code",
   "execution_count": 81,
   "metadata": {},
   "outputs": [
    {
     "name": "stdout",
     "output_type": "stream",
     "text": [
      "[ 0  6 14 24 36 50]\n",
      "[ 0  6 14 24 36 50]\n",
      "tensor([ 0,  6, 14, 24, 36, 50])\n",
      "tensor([ 0,  6, 14, 24, 36, 50])\n"
     ]
    }
   ],
   "source": [
    "print(np_a*np_b)\n",
    "print(np.einsum('i,i->i', np_a, np_b))\n",
    "\n",
    "print(t_a*t_b)\n",
    "print(torch.einsum('i,i->i', t_a, t_b))"
   ]
  },
  {
   "cell_type": "markdown",
   "metadata": {},
   "source": [
    "### Hadamard product"
   ]
  },
  {
   "cell_type": "code",
   "execution_count": 82,
   "metadata": {},
   "outputs": [
    {
     "name": "stdout",
     "output_type": "stream",
     "text": [
      "[[ 0  6 14]\n",
      " [24 36 50]]\n",
      "[[ 0  6 14]\n",
      " [24 36 50]]\n",
      "tensor([[ 0,  6, 14],\n",
      "        [24, 36, 50]])\n",
      "tensor([[ 0,  6, 14],\n",
      "        [24, 36, 50]])\n"
     ]
    }
   ],
   "source": [
    "print(np_A*np_B)\n",
    "print(np.einsum('ij,ij->ij', np_A, np_B))\n",
    "\n",
    "print(t_A*t_B)\n",
    "print(torch.einsum('ij,ij->ij', t_A, t_B))"
   ]
  },
  {
   "cell_type": "markdown",
   "metadata": {},
   "source": [
    "### element-wise multiply + sum (inner product)"
   ]
  },
  {
   "cell_type": "code",
   "execution_count": 37,
   "metadata": {},
   "outputs": [
    {
     "name": "stdout",
     "output_type": "stream",
     "text": [
      "130\n",
      "130\n",
      "130\n",
      "tensor(130)\n",
      "tensor(130)\n",
      "tensor(130)\n"
     ]
    }
   ],
   "source": [
    "print(np_a.dot(np_b))\n",
    "print(np.sum(np_a*np_b))\n",
    "print(np.einsum('i,i->', np_a, np_b))\n",
    "\n",
    "print(torch.dot(t_a, t_b))\n",
    "print((t_a*t_b).sum())\n",
    "print(torch.einsum('i,i->', t_a, t_b))"
   ]
  },
  {
   "cell_type": "markdown",
   "metadata": {},
   "source": [
    "### outter product"
   ]
  },
  {
   "cell_type": "code",
   "execution_count": 40,
   "metadata": {},
   "outputs": [
    {
     "data": {
      "text/plain": [
       "tensor([[ 0,  0,  0,  0,  0,  0],\n",
       "        [ 5,  6,  7,  8,  9, 10],\n",
       "        [10, 12, 14, 16, 18, 20],\n",
       "        [15, 18, 21, 24, 27, 30],\n",
       "        [20, 24, 28, 32, 36, 40],\n",
       "        [25, 30, 35, 40, 45, 50]])"
      ]
     },
     "execution_count": 40,
     "metadata": {},
     "output_type": "execute_result"
    }
   ],
   "source": [
    "torch.einsum('i,j->ij', t_a, t_b)"
   ]
  },
  {
   "cell_type": "markdown",
   "metadata": {},
   "source": [
    "### trace of vector (sum of main diagonal)"
   ]
  },
  {
   "cell_type": "code",
   "execution_count": 52,
   "metadata": {},
   "outputs": [
    {
     "data": {
      "text/plain": [
       "(tensor([[ 20,  29],\n",
       "         [ 74, 110]]), tensor(130), tensor(130))"
      ]
     },
     "execution_count": 52,
     "metadata": {},
     "output_type": "execute_result"
    }
   ],
   "source": [
    "t_A@t_B.T, torch.trace(t_A@t_B.T), torch.einsum('ii', t_A@t_B.T)"
   ]
  },
  {
   "cell_type": "markdown",
   "metadata": {},
   "source": [
    "### sum alone axis"
   ]
  },
  {
   "cell_type": "code",
   "execution_count": 56,
   "metadata": {},
   "outputs": [
    {
     "data": {
      "text/plain": [
       "(tensor([[0, 1, 2],\n",
       "         [3, 4, 5]]), tensor([ 3, 12]), tensor([ 3, 12]))"
      ]
     },
     "execution_count": 56,
     "metadata": {},
     "output_type": "execute_result"
    }
   ],
   "source": [
    "t_A, torch.sum(t_A, dim=1), torch.einsum('ij -> i', t_A)"
   ]
  },
  {
   "cell_type": "markdown",
   "metadata": {},
   "source": [
    "### Batch Matrix Multiplicatiot"
   ]
  },
  {
   "cell_type": "code",
   "execution_count": 77,
   "metadata": {},
   "outputs": [
    {
     "data": {
      "text/plain": [
       "(tensor([[[ 0,  1,  2],\n",
       "          [ 3,  4,  5]],\n",
       " \n",
       "         [[ 5,  6,  7],\n",
       "          [ 8,  9, 10]]]), torch.Size([2, 2, 3]))"
      ]
     },
     "execution_count": 77,
     "metadata": {},
     "output_type": "execute_result"
    }
   ],
   "source": [
    "t_Batch = torch.stack([t_A, t_B])\n",
    "t_Batch, t_Batch.shape"
   ]
  },
  {
   "cell_type": "code",
   "execution_count": 78,
   "metadata": {},
   "outputs": [
    {
     "data": {
      "text/plain": [
       "tensor([[[  5,  14],\n",
       "         [ 14,  50]],\n",
       "\n",
       "        [[110, 164],\n",
       "         [164, 245]]])"
      ]
     },
     "execution_count": 78,
     "metadata": {},
     "output_type": "execute_result"
    }
   ],
   "source": [
    "torch.einsum('bik, bjk -> bij', t_Batch, t_Batch)"
   ]
  },
  {
   "cell_type": "code",
   "execution_count": 80,
   "metadata": {},
   "outputs": [
    {
     "data": {
      "text/plain": [
       "tensor([[[  5,  14],\n",
       "         [ 14,  50]],\n",
       "\n",
       "        [[110, 164],\n",
       "         [164, 245]]])"
      ]
     },
     "execution_count": 80,
     "metadata": {},
     "output_type": "execute_result"
    }
   ],
   "source": [
    "# same as\n",
    "torch.stack([t_A@t_A.T, t_B@t_B.T])"
   ]
  },
  {
   "cell_type": "markdown",
   "metadata": {},
   "source": [
    "### Advanced examples - check below for explanation"
   ]
  },
  {
   "cell_type": "code",
   "execution_count": 57,
   "metadata": {},
   "outputs": [
    {
     "data": {
      "text/plain": [
       "(array([[ 0,  1,  2,  3],\n",
       "        [ 4,  5,  6,  7],\n",
       "        [ 8,  9, 10, 11],\n",
       "        [12, 13, 14, 15],\n",
       "        [16, 17, 18, 19],\n",
       "        [20, 21, 22, 23]]), array([0, 1, 2, 3, 4, 5]))"
      ]
     },
     "execution_count": 57,
     "metadata": {},
     "output_type": "execute_result"
    }
   ],
   "source": [
    "a = np.arange(24).reshape(6,4)\n",
    "b = np.arange(6)\n",
    "a, b"
   ]
  },
  {
   "cell_type": "code",
   "execution_count": 58,
   "metadata": {},
   "outputs": [
    {
     "data": {
      "text/plain": [
       "array([220, 235, 250, 265])"
      ]
     },
     "execution_count": 58,
     "metadata": {},
     "output_type": "execute_result"
    }
   ],
   "source": [
    "np.einsum('ij, i->j', a,b)  # Column sum (a.T*b).T.sum(axis=0)"
   ]
  },
  {
   "cell_type": "code",
   "execution_count": 59,
   "metadata": {},
   "outputs": [
    {
     "data": {
      "text/plain": [
       "array([  0,  22,  76, 162, 280, 430])"
      ]
     },
     "execution_count": 59,
     "metadata": {},
     "output_type": "execute_result"
    }
   ],
   "source": [
    " np.einsum('ij, i->i', a,b)  # Row sum (a.T*b).T.sum(axis=1)"
   ]
  },
  {
   "cell_type": "markdown",
   "metadata": {},
   "source": [
    "### Vector & Matrix"
   ]
  },
  {
   "cell_type": "code",
   "execution_count": 88,
   "metadata": {},
   "outputs": [
    {
     "data": {
      "text/plain": [
       "tensor([[ 5,  6,  7],\n",
       "        [ 8,  9, 10]])"
      ]
     },
     "execution_count": 88,
     "metadata": {},
     "output_type": "execute_result"
    }
   ],
   "source": [
    "t_B"
   ]
  },
  {
   "cell_type": "code",
   "execution_count": 89,
   "metadata": {},
   "outputs": [
    {
     "data": {
      "text/plain": [
       "tensor([[10, 12, 14],\n",
       "        [24, 27, 30]])"
      ]
     },
     "execution_count": 89,
     "metadata": {},
     "output_type": "execute_result"
    }
   ],
   "source": [
    "torch.einsum('ij, i -> ij', t_B, torch.tensor([2, 3]))"
   ]
  },
  {
   "cell_type": "code",
   "execution_count": 90,
   "metadata": {},
   "outputs": [
    {
     "data": {
      "text/plain": [
       "tensor([36, 81])"
      ]
     },
     "execution_count": 90,
     "metadata": {},
     "output_type": "execute_result"
    }
   ],
   "source": [
    "torch.einsum('ij, i -> i', t_B, torch.tensor([2, 3]))"
   ]
  },
  {
   "cell_type": "code",
   "execution_count": 91,
   "metadata": {},
   "outputs": [
    {
     "data": {
      "text/plain": [
       "tensor([34, 39, 44])"
      ]
     },
     "execution_count": 91,
     "metadata": {},
     "output_type": "execute_result"
    }
   ],
   "source": [
    "torch.einsum('ij, i -> j', t_B, torch.tensor([2, 3]))"
   ]
  },
  {
   "cell_type": "code",
   "execution_count": 92,
   "metadata": {},
   "outputs": [
    {
     "data": {
      "text/plain": [
       "tensor(117)"
      ]
     },
     "execution_count": 92,
     "metadata": {},
     "output_type": "execute_result"
    }
   ],
   "source": [
    "torch.einsum('ij, i -> ', t_B, torch.tensor([2, 3]))"
   ]
  },
  {
   "cell_type": "code",
   "execution_count": 98,
   "metadata": {},
   "outputs": [
    {
     "data": {
      "text/plain": [
       "tensor([[10, 24],\n",
       "        [12, 27],\n",
       "        [14, 30]])"
      ]
     },
     "execution_count": 98,
     "metadata": {},
     "output_type": "execute_result"
    }
   ],
   "source": [
    "torch.einsum('ji, i -> ji', t_B.T, torch.tensor([2, 3]))"
   ]
  },
  {
   "cell_type": "code",
   "execution_count": null,
   "metadata": {},
   "outputs": [],
   "source": []
  }
 ],
 "metadata": {
  "kernelspec": {
   "display_name": "py3_torch_kernel",
   "language": "python",
   "name": "py3_torch_kernel"
  },
  "language_info": {
   "codemirror_mode": {
    "name": "ipython",
    "version": 3
   },
   "file_extension": ".py",
   "mimetype": "text/x-python",
   "name": "python",
   "nbconvert_exporter": "python",
   "pygments_lexer": "ipython3",
   "version": "3.6.9"
  }
 },
 "nbformat": 4,
 "nbformat_minor": 4
}
