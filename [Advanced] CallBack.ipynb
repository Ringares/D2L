{
 "cells": [
  {
   "cell_type": "code",
   "execution_count": 12,
   "metadata": {
    "ExecuteTime": {
     "end_time": "2020-05-13T14:21:53.117520Z",
     "start_time": "2020-05-13T14:21:53.111050Z"
    }
   },
   "outputs": [],
   "source": [
    "import torch\n",
    "import torchvision\n",
    "from torchvision import transforms\n",
    "import numpy as np\n",
    "import sys; sys.path.insert(0, '../')\n",
    "from exp import nb_d2l_utils\n",
    "%matplotlib inline"
   ]
  },
  {
   "cell_type": "code",
   "execution_count": 13,
   "metadata": {
    "ExecuteTime": {
     "end_time": "2020-05-13T14:21:53.915499Z",
     "start_time": "2020-05-13T14:21:53.910319Z"
    }
   },
   "outputs": [],
   "source": [
    "torch.manual_seed(0)\n",
    "# torch.cuda.manual_seed_all(0)\n",
    "\n",
    "torch.__version__               # PyTorch version\n",
    "# torch.version.cuda              # Corresponding CUDA version\n",
    "# torch.backends.cudnn.version()  # Corresponding cuDNN version\n",
    "# torch.cuda.get_device_name(0)   # GPU type\n",
    "\n",
    "dev = torch.device('cuda') if torch.cuda.is_available() else torch.device('cpu')"
   ]
  },
  {
   "cell_type": "code",
   "execution_count": 14,
   "metadata": {
    "ExecuteTime": {
     "end_time": "2020-05-13T14:22:19.542467Z",
     "start_time": "2020-05-13T14:22:19.346448Z"
    }
   },
   "outputs": [
    {
     "data": {
      "text/plain": [
       "(torch.Size([16, 1, 28, 28]), torch.Size([16]))"
      ]
     },
     "execution_count": 14,
     "metadata": {},
     "output_type": "execute_result"
    }
   ],
   "source": [
    "transform = transforms.Compose([\n",
    "    # you can add other transformations in this list\n",
    "    transforms.Resize((28,28)),\n",
    "    transforms.ToTensor(),\n",
    "])\n",
    "\n",
    "train_data = torchvision.datasets.FashionMNIST('path/to/imagenet_root/', transform=transform, download=True)\n",
    "train_loader = torch.utils.data.DataLoader(train_data,\n",
    "                                          batch_size=16,\n",
    "                                          shuffle=True,\n",
    "                                          num_workers=4)\n",
    "\n",
    "vali_data = torchvision.datasets.FashionMNIST('path/to/imagenet_root/', train=False, transform=transform, download=True)\n",
    "vali_loader = torch.utils.data.DataLoader(train_data,\n",
    "                                          batch_size=16,\n",
    "                                          shuffle=True,\n",
    "                                          num_workers=4)\n",
    "            \n",
    "X, y = iter(train_loader).next()\n",
    "X.shape, y.shape"
   ]
  },
  {
   "cell_type": "code",
   "execution_count": 15,
   "metadata": {
    "ExecuteTime": {
     "end_time": "2020-05-13T14:22:21.504898Z",
     "start_time": "2020-05-13T14:22:21.488646Z"
    }
   },
   "outputs": [],
   "source": [
    "#export\n",
    "import numpy as np\n",
    "\n",
    "def loss_batch(model, loss_func, xb, yb, opt=None, device=None):\n",
    "    if device:\n",
    "        xb.to(device)\n",
    "        yb.to(device)\n",
    "    loss = loss_func(model(xb), yb)\n",
    "\n",
    "    if opt is not None:\n",
    "        loss.backward()\n",
    "        opt.step()\n",
    "        opt.zero_grad()\n",
    "\n",
    "    return loss.item(), len(xb)\n",
    "\n",
    "def acc_batch(model, xb, yb, device=None):\n",
    "    if device:\n",
    "        xb.to(device)\n",
    "        yb.to(device)\n",
    "    return (torch.argmax(model(xb), dim=1)==yb).float().mean().item(), len(xb)\n",
    "\n",
    "def fit(epochs, model, loss_func, opt, train_dl, valid_dl, device=None):\n",
    "    if device:\n",
    "        model.to(device)\n",
    "    for epoch in range(epochs):\n",
    "        model.train()\n",
    "        for xb, yb in train_dl:\n",
    "            loss_batch(model, loss_func, xb, yb, opt, device)\n",
    "\n",
    "        model.eval()\n",
    "        with torch.no_grad():\n",
    "            losses, nums = zip(\n",
    "                *[loss_batch(model, loss_func, xb, yb, device) for xb, yb in valid_dl]\n",
    "            )\n",
    "            acc, nums = zip(\n",
    "                *[acc_batch(model, xb, yb, device) for xb, yb in valid_dl]\n",
    "            )\n",
    "        val_loss = np.sum(np.multiply(losses, nums)) / np.sum(nums)\n",
    "        val_acc = np.sum(np.multiply(acc, nums)) / np.sum(nums)\n",
    "\n",
    "        print(epoch, val_loss, val_acc)"
   ]
  },
  {
   "cell_type": "code",
   "execution_count": 16,
   "metadata": {
    "ExecuteTime": {
     "end_time": "2020-05-13T14:22:21.660232Z",
     "start_time": "2020-05-13T14:22:21.649880Z"
    }
   },
   "outputs": [],
   "source": [
    "class Mnist_Linear(torch.nn.Module):\n",
    "    def __init__(self):\n",
    "        super().__init__()\n",
    "        self.linear1 = torch.nn.Linear(784, 64)\n",
    "        self.linear2 = torch.nn.Linear(64, 10)\n",
    "    \n",
    "    def forward(self, xb):\n",
    "        xb = xb.view(-1,28*28)\n",
    "        xb = self.linear1(xb).relu_()\n",
    "        xb = self.linear2(xb).relu_()\n",
    "        return xb\n",
    "    \n",
    "model = Mnist_Linear()"
   ]
  },
  {
   "cell_type": "code",
   "execution_count": 17,
   "metadata": {
    "ExecuteTime": {
     "end_time": "2020-05-13T14:22:21.790962Z",
     "start_time": "2020-05-13T14:22:21.785833Z"
    }
   },
   "outputs": [],
   "source": [
    "opt = torch.optim.Adam(model.parameters())\n",
    "loss = torch.nn.CrossEntropyLoss()"
   ]
  },
  {
   "cell_type": "code",
   "execution_count": 19,
   "metadata": {
    "ExecuteTime": {
     "end_time": "2020-05-13T14:26:51.701416Z",
     "start_time": "2020-05-13T14:23:00.828382Z"
    }
   },
   "outputs": [
    {
     "name": "stdout",
     "output_type": "stream",
     "text": [
      "0 0.9436113202850024 0.6572166666666667\n",
      "1 0.9031177485922972 0.6682333333333333\n",
      "2 0.8996471301401655 0.66235\n",
      "3 0.7365120275462668 0.72755\n",
      "4 0.7276371153237919 0.7279\n",
      "5 0.7342069754312436 0.71985\n",
      "6 0.6870358870645364 0.7377166666666667\n",
      "7 0.7175793249006073 0.72585\n",
      "8 0.6814960044490794 0.7394166666666667\n",
      "9 0.6939282447607567 0.7402166666666666\n"
     ]
    }
   ],
   "source": [
    "fit(10, model, loss, opt, train_loader, vali_loader)"
   ]
  },
  {
   "cell_type": "markdown",
   "metadata": {},
   "source": [
    "<img src='https://tva1.sinaimg.cn/large/007S8ZIlgy1ger772p2t6j318c0t6gwl.jpg'>"
   ]
  },
  {
   "cell_type": "code",
   "execution_count": null,
   "metadata": {},
   "outputs": [],
   "source": []
  }
 ],
 "metadata": {
  "kernelspec": {
   "display_name": "Python 3",
   "language": "python",
   "name": "python3"
  },
  "language_info": {
   "codemirror_mode": {
    "name": "ipython",
    "version": 3
   },
   "file_extension": ".py",
   "mimetype": "text/x-python",
   "name": "python",
   "nbconvert_exporter": "python",
   "pygments_lexer": "ipython3",
   "version": "3.7.7"
  },
  "toc": {
   "base_numbering": 1,
   "nav_menu": {},
   "number_sections": true,
   "sideBar": true,
   "skip_h1_title": false,
   "title_cell": "Table of Contents",
   "title_sidebar": "Contents",
   "toc_cell": false,
   "toc_position": {},
   "toc_section_display": true,
   "toc_window_display": false
  }
 },
 "nbformat": 4,
 "nbformat_minor": 4
}
