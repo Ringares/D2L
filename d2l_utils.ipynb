{
 "cells": [
  {
   "cell_type": "code",
   "execution_count": 1,
   "metadata": {},
   "outputs": [],
   "source": [
    "#export\n",
    "from IPython import display\n",
    "from matplotlib import pyplot as plt\n",
    "import numpy as np\n",
    "import torch\n",
    "\n",
    "def use_svg_display(): \n",
    "    \"\"\"Use the svg format to display a plot in Jupyter.\"\"\" \n",
    "    display.set_matplotlib_formats('svg')\n",
    "    \n",
    "def set_figsize(figsize=(3.5, 2.5)): \n",
    "    \"\"\"Set the figure size for matplotlib.\"\"\" \n",
    "    use_svg_display() \n",
    "    plt.rcParams['figure.figsize'] = figsize\n",
    "    \n",
    "def set_axes(axes, xlabel, ylabel, xlim, ylim, xscale, yscale, legend): \n",
    "    \"\"\"Set the axes for matplotlib.\"\"\" \n",
    "    axes.set_xlabel(xlabel) \n",
    "    axes.set_ylabel(ylabel) \n",
    "    axes.set_xscale(xscale) \n",
    "    axes.set_yscale(yscale) \n",
    "    axes.set_xlim(xlim) \n",
    "    axes.set_ylim(ylim) \n",
    "    if legend: \n",
    "        axes.legend(legend) \n",
    "        axes.grid()\n",
    "\n",
    "def plot(X, Y=None, xlabel=None, ylabel=None, legend=None, xlim=None,\n",
    "         ylim=None, xscale='linear', yscale='linear',\n",
    "         fmts=('-', 'm--', 'g-.', 'r:'), figsize=(3.5, 2.5), axes=None):\n",
    "    \"\"\"Plot data points.\"\"\"\n",
    "    if legend is None:\n",
    "        legend = []\n",
    "\n",
    "    set_figsize(figsize)\n",
    "    axes = axes if axes else plt.gca()\n",
    "\n",
    "    # Return True if X (ndarray or list) has 1 axis\n",
    "    def has_one_axis(X):\n",
    "        return (hasattr(X, \"ndim\") and X.ndim == 1 or isinstance(X, list)\n",
    "                and not hasattr(X[0], \"__len__\"))\n",
    "\n",
    "    if has_one_axis(X):\n",
    "        X = [X]\n",
    "    if Y is None:\n",
    "        X, Y = [[]] * len(X), X\n",
    "    elif has_one_axis(Y):\n",
    "        Y = [Y]\n",
    "    if len(X) != len(Y):\n",
    "        X = X * len(Y)\n",
    "    axes.cla()\n",
    "    for x, y, fmt in zip(X, Y, fmts):\n",
    "        if len(x):\n",
    "            axes.plot(x, y, fmt)\n",
    "        else:\n",
    "            axes.plot(y, fmt)\n",
    "    set_axes(axes, xlabel, ylabel, xlim, ylim, xscale, yscale, legend)\n"
   ]
  },
  {
   "cell_type": "code",
   "execution_count": 2,
   "metadata": {},
   "outputs": [],
   "source": [
    "#export\n",
    "def synthetic_data(w, b, num_examples): \n",
    "    \"\"\"Generate y = X w + b + noise.\"\"\" \n",
    "    X = np.random.normal(0, 1, (num_examples, len(w))) \n",
    "    y = np.dot(X, w) + b \n",
    "    y += np.random.normal(0, 0.01, y.shape) \n",
    "    return X, y\n",
    "\n",
    "def linreg(inputs, W, b):\n",
    "    return torch.mm(inputs, W) + b\n",
    "\n",
    "def squared_loss(y_hat, y):\n",
    "    return (y_hat - y.reshape(y_hat.shape)) ** 2 / 2\n",
    "\n",
    "def sgd(params, lr, batch_size):\n",
    "    for param in params:\n",
    "        param[:] = param - lr * param.grad / batch_size"
   ]
  },
  {
   "cell_type": "code",
   "execution_count": 3,
   "metadata": {},
   "outputs": [],
   "source": [
    "#export\n",
    "def show_images(imgs, num_rows, num_cols, titles=None, scale=1.5):\n",
    "    \"\"\"Plot a list of images.\"\"\"\n",
    "    figsize = (num_cols * scale, num_rows * scale)\n",
    "    _, axes = plt.subplots(num_rows, num_cols, figsize=figsize)\n",
    "    axes = axes.flatten()\n",
    "    for i, (ax, img) in enumerate(zip(axes, imgs)):\n",
    "        ax.imshow(img.numpy())\n",
    "        ax.axes.get_xaxis().set_visible(False)\n",
    "        ax.axes.get_yaxis().set_visible(False)\n",
    "        if titles:\n",
    "            ax.set_title(titles[i])\n",
    "    return axes"
   ]
  },
  {
   "cell_type": "code",
   "execution_count": 4,
   "metadata": {},
   "outputs": [],
   "source": [
    "#export\n",
    "def remove_sequential(network, all_layers=None):\n",
    "    if all_layers is None:\n",
    "        all_layers = []\n",
    "    for layer in network.children():\n",
    "        if type(layer) == nn.Sequential: # if sequential layer, apply recursively to layers in sequential layer\n",
    "            remove_sequential(layer, all_layers)\n",
    "        if list(layer.children()) == []: # if leaf node, add it to list\n",
    "            all_layers.append(layer)\n",
    "    return all_layers\n",
    "\n",
    "def layer_description(model, x):\n",
    "    for layer in remove_sequential(model):\n",
    "        x = layer(x)\n",
    "        print(layer.__class__.__name__,'Output shape:\\t',x.shape)"
   ]
  },
  {
   "cell_type": "code",
   "execution_count": 5,
   "metadata": {},
   "outputs": [],
   "source": [
    "#export\n",
    "def find_modules(m, cond):\n",
    "    if cond(m): return [m]\n",
    "    return sum([find_modules(o,cond) for o in m.children()], [])"
   ]
  },
  {
   "cell_type": "code",
   "execution_count": 6,
   "metadata": {},
   "outputs": [],
   "source": [
    "#export\n",
    "def accuracy(out, yb):\n",
    "    return (torch.argmax(out, dim=1) == yb).float().mean()\n"
   ]
  },
  {
   "cell_type": "code",
   "execution_count": 7,
   "metadata": {},
   "outputs": [],
   "source": [
    "#export\n",
    "import sys; sys.path.insert(0, '../')\n",
    "from exp.hook import *\n",
    "\n",
    "def hook_lsuv_stats(h, module, input, output):\n",
    "    h.mean = output.data.mean().item()\n",
    "    h.std = output.data.std().item()\n",
    "    \n",
    "def lsuv(model, module, xb, tol=1e-3, max_attempts=10):\n",
    "    h = ForwardHook(module, hook_lsuv_stats)\n",
    "    model(xb)\n",
    "    attemp_cnt = 0\n",
    "    while model(xb) is not None and abs(h.mean) >= tol and attemp_cnt < max_attempts:\n",
    "        module.bias.data -= h.mean\n",
    "        attemp_cnt += 1\n",
    "    attemp_cnt = 0\n",
    "    while model(xb) is not None and abs(h.std) >= 1+tol and attemp_cnt < max_attempts:\n",
    "        module.weight.data /= h.std\n",
    "        attemp_cnt += 1\n",
    "    print(h.mean, h.std)\n",
    "    h.remove()\n",
    "\n",
    "def lsuv_init(model, xb, cond=lambda:True):\n",
    "    for m in find_modules(model, cond):\n",
    "        lsuv(model, m, xb)"
   ]
  },
  {
   "cell_type": "code",
   "execution_count": 8,
   "metadata": {},
   "outputs": [
    {
     "name": "stdout",
     "output_type": "stream",
     "text": [
      "Converted d2l_utils.ipynb to exp/nb_d2l_utils.py\n"
     ]
    },
    {
     "data": {
      "text/plain": [
       "['ForwardHook',\n",
       " 'Hooks',\n",
       " '__builtins__',\n",
       " '__cached__',\n",
       " '__doc__',\n",
       " '__file__',\n",
       " '__loader__',\n",
       " '__name__',\n",
       " '__package__',\n",
       " '__spec__',\n",
       " 'accuracy',\n",
       " 'display',\n",
       " 'find_modules',\n",
       " 'get_hist',\n",
       " 'get_min',\n",
       " 'hook_lsuv_stats',\n",
       " 'hook_stats',\n",
       " 'layer_description',\n",
       " 'linreg',\n",
       " 'lsuv',\n",
       " 'lsuv_init',\n",
       " 'nn',\n",
       " 'np',\n",
       " 'partial',\n",
       " 'plot',\n",
       " 'plt',\n",
       " 'remove_sequential',\n",
       " 'set_axes',\n",
       " 'set_figsize',\n",
       " 'sgd',\n",
       " 'show_images',\n",
       " 'squared_loss',\n",
       " 'synthetic_data',\n",
       " 'sys',\n",
       " 'torch',\n",
       " 'use_svg_display']"
      ]
     },
     "execution_count": 8,
     "metadata": {},
     "output_type": "execute_result"
    }
   ],
   "source": [
    "!python notebook2script.py d2l_utils.ipynb\n",
    "import sys; sys.path.insert(0, '../')\n",
    "from exp import nb_d2l_utils\n",
    "\n",
    "dir(nb_d2l_utils)"
   ]
  },
  {
   "cell_type": "code",
   "execution_count": null,
   "metadata": {},
   "outputs": [],
   "source": []
  }
 ],
 "metadata": {
  "kernelspec": {
   "display_name": "py3_torch_kernel",
   "language": "python",
   "name": "py3_torch_kernel"
  },
  "language_info": {
   "codemirror_mode": {
    "name": "ipython",
    "version": 3
   },
   "file_extension": ".py",
   "mimetype": "text/x-python",
   "name": "python",
   "nbconvert_exporter": "python",
   "pygments_lexer": "ipython3",
   "version": "3.6.9"
  }
 },
 "nbformat": 4,
 "nbformat_minor": 4
}
