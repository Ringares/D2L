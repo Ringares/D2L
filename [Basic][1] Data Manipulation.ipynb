{
 "cells": [
  {
   "cell_type": "code",
   "execution_count": 1,
   "metadata": {
    "ExecuteTime": {
     "end_time": "2020-05-02T03:29:42.704758Z",
     "start_time": "2020-05-02T03:29:41.418115Z"
    }
   },
   "outputs": [
    {
     "name": "stdout",
     "output_type": "stream",
     "text": [
      "1.5.0\n"
     ]
    }
   ],
   "source": [
    "import numpy as np\n",
    "import torch\n",
    "\n",
    "print(torch.__version__)"
   ]
  },
  {
   "cell_type": "markdown",
   "metadata": {},
   "source": [
    "注意点 saving memory\n",
    "- `torch.tensor()` always copies data. If you have a Tensor data and just want to change its requires_grad flag, use `requires_grad_()` or `detach()` to avoid a copy. If you have a numpy array and want to avoid a copy, use `torch.as_tensor()`\n",
    "- \n",
    "\n",
    "---\n",
    "\n",
    "```\n",
    "# https://pytorch.org/docs/stable/tensors.html?highlight=view#\n",
    "cuda0 = torch.device('cuda:0')\n",
    "torch.ones([2, 4], dtype=torch.float64, device=cuda0)\n",
    "```"
   ]
  },
  {
   "cell_type": "markdown",
   "metadata": {
    "ExecuteTime": {
     "end_time": "2020-04-25T13:58:55.871539Z",
     "start_time": "2020-04-25T13:58:55.866752Z"
    }
   },
   "source": [
    "### arange, shape, size"
   ]
  },
  {
   "cell_type": "markdown",
   "metadata": {
    "ExecuteTime": {
     "end_time": "2020-04-25T13:59:56.491082Z",
     "start_time": "2020-04-25T13:59:56.487499Z"
    }
   },
   "source": [
    "#### numpy"
   ]
  },
  {
   "cell_type": "code",
   "execution_count": 2,
   "metadata": {
    "ExecuteTime": {
     "end_time": "2020-05-02T03:29:42.763470Z",
     "start_time": "2020-05-02T03:29:42.707465Z"
    }
   },
   "outputs": [
    {
     "data": {
      "text/plain": [
       "(array([ 0,  1,  2,  3,  4,  5,  6,  7,  8,  9, 10, 11]), (12,), 12)"
      ]
     },
     "execution_count": 2,
     "metadata": {},
     "output_type": "execute_result"
    }
   ],
   "source": [
    "# numpy\n",
    "x = np.arange(12)\n",
    "x, x.shape, x.size"
   ]
  },
  {
   "cell_type": "code",
   "execution_count": 3,
   "metadata": {
    "ExecuteTime": {
     "end_time": "2020-05-02T03:29:42.837281Z",
     "start_time": "2020-05-02T03:29:42.767835Z"
    }
   },
   "outputs": [
    {
     "data": {
      "text/plain": [
       "(array([[ 0,  1,  2,  3],\n",
       "        [ 4,  5,  6,  7],\n",
       "        [ 8,  9, 10, 11]]),\n",
       " (3, 4),\n",
       " 12)"
      ]
     },
     "execution_count": 3,
     "metadata": {},
     "output_type": "execute_result"
    }
   ],
   "source": [
    "x_reshape = x.reshape(3, -1)\n",
    "x_reshape, x_reshape.shape, x_reshape.size"
   ]
  },
  {
   "cell_type": "markdown",
   "metadata": {
    "ExecuteTime": {
     "end_time": "2020-04-25T14:00:36.790695Z",
     "start_time": "2020-04-25T14:00:36.785421Z"
    }
   },
   "source": [
    "#### pytorch"
   ]
  },
  {
   "cell_type": "code",
   "execution_count": 4,
   "metadata": {
    "ExecuteTime": {
     "end_time": "2020-05-02T03:29:42.857769Z",
     "start_time": "2020-05-02T03:29:42.843085Z"
    }
   },
   "outputs": [
    {
     "data": {
      "text/plain": [
       "(tensor([ 0,  1,  2,  3,  4,  5,  6,  7,  8,  9, 10, 11]),\n",
       " torch.Size([12]),\n",
       " torch.Size([12]))"
      ]
     },
     "execution_count": 4,
     "metadata": {},
     "output_type": "execute_result"
    }
   ],
   "source": [
    "# pytorch\n",
    "# tensor.size() 和 numpy 作用的不同\n",
    "x = torch.arange(12)\n",
    "x, x.shape, x.size()"
   ]
  },
  {
   "cell_type": "code",
   "execution_count": 5,
   "metadata": {
    "ExecuteTime": {
     "end_time": "2020-05-02T03:29:42.876178Z",
     "start_time": "2020-05-02T03:29:42.862873Z"
    }
   },
   "outputs": [
    {
     "data": {
      "text/plain": [
       "(tensor([[ 0,  1,  2,  3],\n",
       "         [ 4,  5,  6,  7],\n",
       "         [ 8,  9, 10, 11]]),\n",
       " torch.Size([3, 4]),\n",
       " torch.Size([3, 4]),\n",
       " 12)"
      ]
     },
     "execution_count": 5,
     "metadata": {},
     "output_type": "execute_result"
    }
   ],
   "source": [
    "x_reshape = x.reshape(3, -1)\n",
    "x_reshape, x_reshape.shape, x_reshape.size(), x.nelement()"
   ]
  },
  {
   "cell_type": "markdown",
   "metadata": {},
   "source": [
    "### 初始化: empty, zeros, ones"
   ]
  },
  {
   "cell_type": "markdown",
   "metadata": {
    "ExecuteTime": {
     "end_time": "2020-04-25T14:01:09.759925Z",
     "start_time": "2020-04-25T14:01:09.756596Z"
    }
   },
   "source": [
    "#### numpy"
   ]
  },
  {
   "cell_type": "code",
   "execution_count": 6,
   "metadata": {
    "ExecuteTime": {
     "end_time": "2020-05-02T03:29:42.890306Z",
     "start_time": "2020-05-02T03:29:42.879333Z"
    }
   },
   "outputs": [
    {
     "data": {
      "text/plain": [
       "(array([[ 2.00000000e+000,  2.00000000e+000,  5.92878775e-323,\n",
       "          0.00000000e+000,  0.00000000e+000,  0.00000000e+000],\n",
       "        [ 0.00000000e+000,  0.00000000e+000,  0.00000000e+000,\n",
       "          0.00000000e+000,  0.00000000e+000,  0.00000000e+000],\n",
       "        [ 0.00000000e+000,  0.00000000e+000,  2.00000000e+000,\n",
       "          2.00000000e+000,  2.47032823e-323,  0.00000000e+000],\n",
       "        [ 0.00000000e+000,  0.00000000e+000, -3.11109084e+231,\n",
       "          1.29074173e-231,  2.00000000e+000,  1.67314417e-308]]),\n",
       " array([[0., 0., 0.],\n",
       "        [0., 0., 0.]]),\n",
       " array([[1., 1., 1.],\n",
       "        [1., 1., 1.]]))"
      ]
     },
     "execution_count": 6,
     "metadata": {},
     "output_type": "execute_result"
    }
   ],
   "source": [
    "# np.empty_like\n",
    "# np.zeros_like\n",
    "# np.ones_like\n",
    "np.empty((4,6)), np.zeros((2,3)), np.ones((2,3))"
   ]
  },
  {
   "cell_type": "code",
   "execution_count": 7,
   "metadata": {
    "ExecuteTime": {
     "end_time": "2020-05-02T03:29:42.905617Z",
     "start_time": "2020-05-02T03:29:42.895385Z"
    }
   },
   "outputs": [
    {
     "data": {
      "text/plain": [
       "array([[ 0.25191877,  1.35412512, -0.97592427],\n",
       "       [-1.30150387,  0.65634875, -1.38654424]])"
      ]
     },
     "execution_count": 7,
     "metadata": {},
     "output_type": "execute_result"
    }
   ],
   "source": [
    "np.random.normal(0, 1, size=(2,3))"
   ]
  },
  {
   "cell_type": "markdown",
   "metadata": {},
   "source": [
    "#### pytorch"
   ]
  },
  {
   "cell_type": "code",
   "execution_count": 8,
   "metadata": {
    "ExecuteTime": {
     "end_time": "2020-05-02T03:29:42.948643Z",
     "start_time": "2020-05-02T03:29:42.925842Z"
    }
   },
   "outputs": [
    {
     "data": {
      "text/plain": [
       "(tensor([[0., 0., 0.],\n",
       "         [0., 0., 0.]]),\n",
       " tensor([[0., 0., 0.],\n",
       "         [0., 0., 0.]]),\n",
       " tensor([[1., 1., 1.],\n",
       "         [1., 1., 1.]]))"
      ]
     },
     "execution_count": 8,
     "metadata": {},
     "output_type": "execute_result"
    }
   ],
   "source": [
    "# ~_like\n",
    "torch.empty((2,3)), torch.zeros((2,3)), torch.ones((2,3))"
   ]
  },
  {
   "cell_type": "code",
   "execution_count": 9,
   "metadata": {
    "ExecuteTime": {
     "end_time": "2020-05-02T03:29:42.960846Z",
     "start_time": "2020-05-02T03:29:42.953231Z"
    }
   },
   "outputs": [
    {
     "data": {
      "text/plain": [
       "tensor([[-0.6652, -0.9200,  0.8368],\n",
       "        [ 0.4544, -0.8686,  1.4616]])"
      ]
     },
     "execution_count": 9,
     "metadata": {},
     "output_type": "execute_result"
    }
   ],
   "source": [
    "# normal distributions of mean=0, variance=1\n",
    "torch.randn(2, 3)"
   ]
  },
  {
   "cell_type": "code",
   "execution_count": 10,
   "metadata": {
    "ExecuteTime": {
     "end_time": "2020-05-02T03:29:42.972715Z",
     "start_time": "2020-05-02T03:29:42.963989Z"
    }
   },
   "outputs": [
    {
     "data": {
      "text/plain": [
       "tensor([[ 5.4144, -0.5567, -3.2429,  4.7005]])"
      ]
     },
     "execution_count": 10,
     "metadata": {},
     "output_type": "execute_result"
    }
   ],
   "source": [
    "torch.normal(2, 3, size=(1, 4))"
   ]
  },
  {
   "cell_type": "markdown",
   "metadata": {
    "ExecuteTime": {
     "end_time": "2020-04-25T14:02:34.800613Z",
     "start_time": "2020-04-25T14:02:34.796072Z"
    }
   },
   "source": [
    "#### pytorch <-> numpy"
   ]
  },
  {
   "cell_type": "code",
   "execution_count": 11,
   "metadata": {
    "ExecuteTime": {
     "end_time": "2020-05-02T03:29:42.981294Z",
     "start_time": "2020-05-02T03:29:42.975698Z"
    }
   },
   "outputs": [
    {
     "data": {
      "text/plain": [
       "array([1., 2.], dtype=float32)"
      ]
     },
     "execution_count": 11,
     "metadata": {},
     "output_type": "execute_result"
    }
   ],
   "source": [
    "torch.tensor([1.,2.]).numpy()"
   ]
  },
  {
   "cell_type": "code",
   "execution_count": 12,
   "metadata": {
    "ExecuteTime": {
     "end_time": "2020-05-02T03:29:42.994639Z",
     "start_time": "2020-05-02T03:29:42.984436Z"
    }
   },
   "outputs": [
    {
     "data": {
      "text/plain": [
       "tensor([1., 2.], dtype=torch.float64)"
      ]
     },
     "execution_count": 12,
     "metadata": {},
     "output_type": "execute_result"
    }
   ],
   "source": [
    "# torch.from_numpy(np.array([1.,2.]))\n",
    "torch.tensor(np.array([1.,2.]))"
   ]
  },
  {
   "cell_type": "markdown",
   "metadata": {},
   "source": [
    "### Operation: basic, broadcasting, indexing, slicing"
   ]
  },
  {
   "cell_type": "markdown",
   "metadata": {
    "ExecuteTime": {
     "end_time": "2020-04-25T14:48:26.748205Z",
     "start_time": "2020-04-25T14:48:26.744319Z"
    }
   },
   "source": [
    "#### numpy"
   ]
  },
  {
   "cell_type": "code",
   "execution_count": 13,
   "metadata": {
    "ExecuteTime": {
     "end_time": "2020-05-02T03:29:43.014900Z",
     "start_time": "2020-05-02T03:29:42.998382Z"
    }
   },
   "outputs": [
    {
     "data": {
      "text/plain": [
       "(array([ 3,  4,  6, 10]),\n",
       " array([-1,  0,  2,  6]),\n",
       " array([ 2,  4,  8, 16]),\n",
       " array([0.5, 1. , 2. , 4. ]),\n",
       " array([ 1,  4, 16, 64]))"
      ]
     },
     "execution_count": 13,
     "metadata": {},
     "output_type": "execute_result"
    }
   ],
   "source": [
    "x = np.array([1, 2, 4, 8])\n",
    "y = np.array([2, 2, 2, 2])\n",
    "x + y, x - y, x * y, x / y, x ** y  # The ** operator is exponentiation"
   ]
  },
  {
   "cell_type": "code",
   "execution_count": 14,
   "metadata": {
    "ExecuteTime": {
     "end_time": "2020-05-02T03:29:43.028424Z",
     "start_time": "2020-05-02T03:29:43.018932Z"
    }
   },
   "outputs": [
    {
     "data": {
      "text/plain": [
       "array([[ 3,  4,  6, 10],\n",
       "       [ 3,  4,  6, 10],\n",
       "       [ 3,  4,  6, 10],\n",
       "       [ 3,  4,  6, 10]])"
      ]
     },
     "execution_count": 14,
     "metadata": {},
     "output_type": "execute_result"
    }
   ],
   "source": [
    "# Broadcasting\n",
    "x = x.reshape(1, 4)\n",
    "y = y.reshape(4, 1)\n",
    "x + y"
   ]
  },
  {
   "cell_type": "code",
   "execution_count": 15,
   "metadata": {
    "ExecuteTime": {
     "end_time": "2020-05-02T03:29:43.047284Z",
     "start_time": "2020-05-02T03:29:43.034464Z"
    }
   },
   "outputs": [
    {
     "name": "stdout",
     "output_type": "stream",
     "text": [
      "[[ 0  1  2  3]\n",
      " [ 4  5  6  7]\n",
      " [ 8  9 10 11]]\n",
      "\n",
      "[ 8  9 10 11]\n",
      "\n",
      "[[ 4  5  6  7]\n",
      " [ 8  9 10 11]]\n",
      "\n",
      "[[ 1  2]\n",
      " [ 5  6]\n",
      " [ 9 10]]\n",
      "\n"
     ]
    }
   ],
   "source": [
    "# Indexing and Slicing\n",
    "x = np.arange(12).reshape((3,4))\n",
    "print(x, end='\\n\\n') \n",
    "print(x[-1], end='\\n\\n')\n",
    "print(x[1:3], end='\\n\\n') \n",
    "print(x[:,1:3], end='\\n\\n')"
   ]
  },
  {
   "cell_type": "markdown",
   "metadata": {
    "ExecuteTime": {
     "end_time": "2020-04-25T14:48:33.440727Z",
     "start_time": "2020-04-25T14:48:33.437155Z"
    }
   },
   "source": [
    "#### pytorch"
   ]
  },
  {
   "cell_type": "code",
   "execution_count": 16,
   "metadata": {
    "ExecuteTime": {
     "end_time": "2020-05-02T03:29:43.064920Z",
     "start_time": "2020-05-02T03:29:43.050847Z"
    }
   },
   "outputs": [
    {
     "name": "stderr",
     "output_type": "stream",
     "text": [
      "/Users/distiller/project/conda/conda-bld/pytorch_1587428061935/work/aten/src/ATen/native/BinaryOps.cpp:81: UserWarning: Integer division of tensors using div or / is deprecated, and in a future release div will perform true division as in Python 3. Use true_divide or floor_divide (// in Python) instead.\n"
     ]
    },
    {
     "data": {
      "text/plain": [
       "(tensor([ 3,  4,  6, 10]),\n",
       " tensor([-1,  0,  2,  6]),\n",
       " tensor([ 2,  4,  8, 16]),\n",
       " tensor([0, 1, 2, 4]),\n",
       " tensor([ 1,  4, 16, 64]))"
      ]
     },
     "execution_count": 16,
     "metadata": {},
     "output_type": "execute_result"
    }
   ],
   "source": [
    "x = torch.tensor([1, 2, 4, 8])\n",
    "y = torch.tensor([2, 2, 2, 2])\n",
    "x + y, x - y, x * y, x / y, x ** y"
   ]
  },
  {
   "cell_type": "code",
   "execution_count": 17,
   "metadata": {
    "ExecuteTime": {
     "end_time": "2020-05-02T03:29:43.081066Z",
     "start_time": "2020-05-02T03:29:43.074208Z"
    }
   },
   "outputs": [
    {
     "data": {
      "text/plain": [
       "(tensor([ 1,  4, 16, 64]), tensor([ 1,  4, 16, 64]), tensor([ 1,  4, 16, 64]))"
      ]
     },
     "execution_count": 17,
     "metadata": {},
     "output_type": "execute_result"
    }
   ],
   "source": [
    "x**2, x*x, x.pow(2)"
   ]
  },
  {
   "cell_type": "code",
   "execution_count": 18,
   "metadata": {
    "ExecuteTime": {
     "end_time": "2020-05-02T03:29:43.092078Z",
     "start_time": "2020-05-02T03:29:43.084153Z"
    }
   },
   "outputs": [
    {
     "data": {
      "text/plain": [
       "tensor([[ 3,  3,  3,  3],\n",
       "        [ 4,  4,  4,  4],\n",
       "        [ 6,  6,  6,  6],\n",
       "        [10, 10, 10, 10]])"
      ]
     },
     "execution_count": 18,
     "metadata": {},
     "output_type": "execute_result"
    }
   ],
   "source": [
    "# Broadcasting\n",
    "x = x.reshape(4, 1)\n",
    "y = y.reshape(1, 4)\n",
    "x + y"
   ]
  },
  {
   "cell_type": "code",
   "execution_count": 19,
   "metadata": {
    "ExecuteTime": {
     "end_time": "2020-05-02T03:29:43.103138Z",
     "start_time": "2020-05-02T03:29:43.094051Z"
    }
   },
   "outputs": [
    {
     "name": "stdout",
     "output_type": "stream",
     "text": [
      "tensor([[ 0,  1,  2,  3],\n",
      "        [ 4,  5,  6,  7],\n",
      "        [ 8,  9, 10, 11]])\n",
      "\n",
      "tensor([ 8,  9, 10, 11])\n",
      "\n",
      "tensor([[ 4,  5,  6,  7],\n",
      "        [ 8,  9, 10, 11]])\n",
      "\n",
      "tensor([[ 1,  2],\n",
      "        [ 5,  6],\n",
      "        [ 9, 10]])\n",
      "\n"
     ]
    }
   ],
   "source": [
    "# Indexing and Slicing\n",
    "x = torch.arange(12).reshape((3,4))\n",
    "print(x, end='\\n\\n') \n",
    "print(x[-1], end='\\n\\n')\n",
    "print(x[1:3], end='\\n\\n') \n",
    "print(x[:,1:3], end='\\n\\n')"
   ]
  },
  {
   "cell_type": "markdown",
   "metadata": {},
   "source": [
    "### Operation: Hadamard product, reduction (sum, mean, cumsum)"
   ]
  },
  {
   "cell_type": "markdown",
   "metadata": {},
   "source": [
    "#### numpy"
   ]
  },
  {
   "cell_type": "code",
   "execution_count": 20,
   "metadata": {
    "ExecuteTime": {
     "end_time": "2020-05-02T03:29:43.117224Z",
     "start_time": "2020-05-02T03:29:43.109269Z"
    }
   },
   "outputs": [
    {
     "name": "stdout",
     "output_type": "stream",
     "text": [
      "[[ 0  1  2  3]\n",
      " [ 4  5  6  7]\n",
      " [ 8  9 10 11]]\n",
      "\n",
      "[[  0   1   4   9]\n",
      " [ 16  25  36  49]\n",
      " [ 64  81 100 121]]\n"
     ]
    }
   ],
   "source": [
    "A = np.arange(12).reshape((3, 4))\n",
    "print(A, end='\\n\\n')\n",
    "print(A*A)"
   ]
  },
  {
   "cell_type": "code",
   "execution_count": 23,
   "metadata": {
    "ExecuteTime": {
     "end_time": "2020-05-02T03:50:55.683099Z",
     "start_time": "2020-05-02T03:50:55.617637Z"
    },
    "scrolled": true
   },
   "outputs": [
    {
     "name": "stdout",
     "output_type": "stream",
     "text": [
      "66\n",
      "\n",
      "[12 15 18 21]\n",
      "\n",
      "[ 6 22 38]\n",
      "\n",
      "[[ 6]\n",
      " [22]\n",
      " [38]]\n",
      "\n",
      "66\n",
      "\n"
     ]
    }
   ],
   "source": [
    "print(A.sum(), end='\\n\\n')\n",
    "print(A.sum(axis=0), end='\\n\\n')\n",
    "print(A.sum(axis=1), end='\\n\\n')\n",
    "print(A.sum(axis=1, keepdims=True), end='\\n\\n')\n",
    "print(A.sum(axis=0).sum(axis=0), end='\\n\\n')"
   ]
  },
  {
   "cell_type": "code",
   "execution_count": null,
   "metadata": {
    "ExecuteTime": {
     "end_time": "2020-05-02T03:29:43.347844Z",
     "start_time": "2020-05-02T03:29:41.508Z"
    }
   },
   "outputs": [],
   "source": [
    "print(A.mean(), A.sum()/A.size)\n",
    "print(A.mean(axis=0), A.sum(axis=0)/A.shape[0])\n",
    "print(A.mean(axis=1), A.sum(axis=1)/A.shape[1])"
   ]
  },
  {
   "cell_type": "code",
   "execution_count": null,
   "metadata": {
    "ExecuteTime": {
     "end_time": "2020-05-02T03:29:43.351387Z",
     "start_time": "2020-05-02T03:29:41.511Z"
    }
   },
   "outputs": [],
   "source": [
    "A.cumsum(axis=0)"
   ]
  },
  {
   "cell_type": "markdown",
   "metadata": {},
   "source": [
    "#### pytorch"
   ]
  },
  {
   "cell_type": "code",
   "execution_count": 24,
   "metadata": {
    "ExecuteTime": {
     "end_time": "2020-05-02T03:51:10.377521Z",
     "start_time": "2020-05-02T03:51:10.343850Z"
    }
   },
   "outputs": [
    {
     "name": "stdout",
     "output_type": "stream",
     "text": [
      "tensor([[ 0.,  1.,  2.,  3.],\n",
      "        [ 4.,  5.,  6.,  7.],\n",
      "        [ 8.,  9., 10., 11.]])\n",
      "\n",
      "tensor([[  0.,   1.,   4.,   9.],\n",
      "        [ 16.,  25.,  36.,  49.],\n",
      "        [ 64.,  81., 100., 121.]])\n"
     ]
    }
   ],
   "source": [
    "A = torch.arange(12, dtype=torch.float32).reshape((3, 4))\n",
    "print(A, end='\\n\\n')\n",
    "print(A*A)"
   ]
  },
  {
   "cell_type": "code",
   "execution_count": 25,
   "metadata": {
    "ExecuteTime": {
     "end_time": "2020-05-02T03:51:10.571860Z",
     "start_time": "2020-05-02T03:51:10.491669Z"
    }
   },
   "outputs": [
    {
     "name": "stdout",
     "output_type": "stream",
     "text": [
      "tensor(66.)\n",
      "\n",
      "tensor([12., 15., 18., 21.])\n",
      "\n",
      "tensor([ 6., 22., 38.])\n",
      "\n",
      "tensor([[ 6.],\n",
      "        [22.],\n",
      "        [38.]])\n",
      "\n",
      "tensor(66.)\n",
      "\n"
     ]
    }
   ],
   "source": [
    "print(A.sum(), end='\\n\\n')\n",
    "print(A.sum(dim=0), end='\\n\\n')\n",
    "print(A.sum(dim=1), end='\\n\\n')\n",
    "print(A.sum(dim=1, keepdim=True), end='\\n\\n')\n",
    "print(A.sum(dim=[0,1]), end='\\n\\n')"
   ]
  },
  {
   "cell_type": "code",
   "execution_count": 26,
   "metadata": {
    "ExecuteTime": {
     "end_time": "2020-05-02T03:51:10.803470Z",
     "start_time": "2020-05-02T03:51:10.789042Z"
    }
   },
   "outputs": [
    {
     "name": "stdout",
     "output_type": "stream",
     "text": [
      "tensor(5.5000) tensor(5.5000)\n",
      "tensor([4., 5., 6., 7.]) tensor([4., 5., 6., 7.])\n"
     ]
    }
   ],
   "source": [
    "print(A.mean(), A.sum()/A.nelement())\n",
    "print(A.mean(dim=0), A.sum(dim=0)/A.shape[0])"
   ]
  },
  {
   "cell_type": "markdown",
   "metadata": {},
   "source": [
    "### Operation: Linear Algebra: matrix\\*vector, matrix\\*matrix, norms"
   ]
  },
  {
   "cell_type": "markdown",
   "metadata": {},
   "source": [
    "#### numpy"
   ]
  },
  {
   "cell_type": "code",
   "execution_count": 27,
   "metadata": {
    "ExecuteTime": {
     "end_time": "2020-05-02T03:57:27.158310Z",
     "start_time": "2020-05-02T03:57:27.102571Z"
    }
   },
   "outputs": [
    {
     "name": "stdout",
     "output_type": "stream",
     "text": [
      "l1 7.0 7.0\n",
      "l2 5.0\n",
      "Frobenius norm 6.0\n"
     ]
    }
   ],
   "source": [
    "x = np.array([3., 4.])\n",
    "A = np.ones((4, 9))\n",
    "print('l1', np.linalg.norm(x, ord=1), np.abs(x).sum())\n",
    "print('l2', np.linalg.norm(x))\n",
    "print('Frobenius norm', np.linalg.norm(A))"
   ]
  },
  {
   "cell_type": "markdown",
   "metadata": {},
   "source": [
    "#### pytorch"
   ]
  },
  {
   "cell_type": "code",
   "execution_count": 28,
   "metadata": {
    "ExecuteTime": {
     "end_time": "2020-05-02T03:57:28.415019Z",
     "start_time": "2020-05-02T03:57:28.348602Z"
    }
   },
   "outputs": [
    {
     "name": "stdout",
     "output_type": "stream",
     "text": [
      "l1 tensor(7.) tensor(7.)\n",
      "l2 tensor(5.)\n",
      "Frobenius norm tensor(6.)\n"
     ]
    }
   ],
   "source": [
    "x = torch.tensor([3., 4.])\n",
    "A = torch.ones((4, 9))\n",
    "print('l1', torch.norm(x, p=1), torch.abs(x).sum())\n",
    "print('l2', torch.norm(x))\n",
    "print('Frobenius norm', torch.norm(A))"
   ]
  },
  {
   "cell_type": "markdown",
   "metadata": {},
   "source": [
    "#### numpy"
   ]
  },
  {
   "cell_type": "code",
   "execution_count": null,
   "metadata": {
    "ExecuteTime": {
     "end_time": "2020-05-02T03:29:43.374859Z",
     "start_time": "2020-05-02T03:29:41.559Z"
    }
   },
   "outputs": [],
   "source": [
    "A = np.arange(12).reshape((3,4))\n",
    "B = np.arange(12, 24).reshape((4,3))\n",
    "x = np.arange(4)\n",
    "A, B, x\n",
    "\n",
    "print(A.dot(x), end='\\n\\n')\n",
    "print(A.dot(B), end='\\n\\n')"
   ]
  },
  {
   "cell_type": "markdown",
   "metadata": {},
   "source": [
    "#### pytorch"
   ]
  },
  {
   "cell_type": "code",
   "execution_count": 29,
   "metadata": {
    "ExecuteTime": {
     "end_time": "2020-05-02T03:58:14.330986Z",
     "start_time": "2020-05-02T03:58:14.301793Z"
    }
   },
   "outputs": [
    {
     "name": "stdout",
     "output_type": "stream",
     "text": [
      "tensor([14, 38, 62])\n",
      "\n",
      "tensor([[114, 120, 126],\n",
      "        [378, 400, 422],\n",
      "        [642, 680, 718]])\n",
      "\n"
     ]
    }
   ],
   "source": [
    "A = torch.arange(12).reshape((3,4))\n",
    "B = torch.arange(12, 24).reshape((4,3))\n",
    "x = torch.arange(4)\n",
    "A, B, x\n",
    "\n",
    "print(torch.mv(A, x), end='\\n\\n')\n",
    "print(torch.mm(A, B), end='\\n\\n')"
   ]
  },
  {
   "cell_type": "markdown",
   "metadata": {
    "ExecuteTime": {
     "end_time": "2020-04-25T14:56:17.373556Z",
     "start_time": "2020-04-25T14:56:17.370810Z"
    }
   },
   "source": [
    "### saving memory\n",
    "\n",
    "`+=`, `[:]` 操作都不会创建新的对象, 而会复用内存"
   ]
  },
  {
   "cell_type": "code",
   "execution_count": null,
   "metadata": {
    "ExecuteTime": {
     "end_time": "2020-05-02T03:29:43.381613Z",
     "start_time": "2020-05-02T03:29:41.585Z"
    }
   },
   "outputs": [],
   "source": [
    "# https://d2l.ai/chapter_preliminaries/ndarray.html#saving-memory\n",
    "\n",
    "a = np.random.normal(size=(2,3))\n",
    "print(id(a))\n",
    "a += 1\n",
    "print(id(a))\n",
    "a[:] = a + 1\n",
    "print(id(a))\n",
    "a = a + 1\n",
    "print(id(a))"
   ]
  },
  {
   "cell_type": "code",
   "execution_count": 22,
   "metadata": {
    "ExecuteTime": {
     "end_time": "2020-05-02T03:31:17.054480Z",
     "start_time": "2020-05-02T03:31:17.036487Z"
    },
    "scrolled": true
   },
   "outputs": [
    {
     "name": "stdout",
     "output_type": "stream",
     "text": [
      "4712922880\n",
      "4712922880\n",
      "4712922880\n",
      "4712920560\n"
     ]
    }
   ],
   "source": [
    "a = torch.randn(size=(2,3))\n",
    "print(id(a))\n",
    "a += 1\n",
    "print(id(a))\n",
    "a[:] = a + 1\n",
    "print(id(a))\n",
    "a = a + 1\n",
    "print(id(a))"
   ]
  },
  {
   "cell_type": "code",
   "execution_count": null,
   "metadata": {},
   "outputs": [],
   "source": []
  },
  {
   "cell_type": "code",
   "execution_count": null,
   "metadata": {},
   "outputs": [],
   "source": []
  }
 ],
 "metadata": {
  "kernelspec": {
   "display_name": "Python 3",
   "language": "python",
   "name": "python3"
  },
  "language_info": {
   "codemirror_mode": {
    "name": "ipython",
    "version": 3
   },
   "file_extension": ".py",
   "mimetype": "text/x-python",
   "name": "python",
   "nbconvert_exporter": "python",
   "pygments_lexer": "ipython3",
   "version": "3.7.7"
  },
  "toc": {
   "base_numbering": 1,
   "nav_menu": {},
   "number_sections": true,
   "sideBar": true,
   "skip_h1_title": false,
   "title_cell": "Table of Contents",
   "title_sidebar": "Contents",
   "toc_cell": false,
   "toc_position": {},
   "toc_section_display": true,
   "toc_window_display": true
  },
  "toc-autonumbering": false,
  "toc-showcode": false
 },
 "nbformat": 4,
 "nbformat_minor": 4
}
