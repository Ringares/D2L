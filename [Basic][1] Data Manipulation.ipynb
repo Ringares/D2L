{
 "cells": [
  {
   "cell_type": "code",
   "execution_count": 141,
   "metadata": {
    "ExecuteTime": {
     "end_time": "2020-04-25T13:38:05.565112Z",
     "start_time": "2020-04-25T13:38:05.560887Z"
    }
   },
   "outputs": [
    {
     "name": "stdout",
     "output_type": "stream",
     "text": [
      "1.3.1\n"
     ]
    }
   ],
   "source": [
    "import numpy as np\n",
    "import torch\n",
    "\n",
    "print(torch.__version__)"
   ]
  },
  {
   "cell_type": "markdown",
   "metadata": {},
   "source": [
    "注意点 saving memory\n",
    "- `torch.tensor()` always copies data. If you have a Tensor data and just want to change its requires_grad flag, use `requires_grad_()` or `detach()` to avoid a copy. If you have a numpy array and want to avoid a copy, use `torch.as_tensor()`\n",
    "- \n",
    "\n",
    "---\n",
    "\n",
    "```\n",
    "# https://pytorch.org/docs/stable/tensors.html?highlight=view#\n",
    "cuda0 = torch.device('cuda:0')\n",
    "torch.ones([2, 4], dtype=torch.float64, device=cuda0)\n",
    "```"
   ]
  },
  {
   "cell_type": "markdown",
   "metadata": {
    "ExecuteTime": {
     "end_time": "2020-04-25T13:58:55.871539Z",
     "start_time": "2020-04-25T13:58:55.866752Z"
    }
   },
   "source": [
    "### arange, shape, size"
   ]
  },
  {
   "cell_type": "markdown",
   "metadata": {
    "ExecuteTime": {
     "end_time": "2020-04-25T13:59:56.491082Z",
     "start_time": "2020-04-25T13:59:56.487499Z"
    }
   },
   "source": [
    "#### numpy"
   ]
  },
  {
   "cell_type": "code",
   "execution_count": 142,
   "metadata": {
    "ExecuteTime": {
     "end_time": "2020-04-25T13:41:51.653613Z",
     "start_time": "2020-04-25T13:41:51.647629Z"
    }
   },
   "outputs": [
    {
     "data": {
      "text/plain": [
       "(array([ 0,  1,  2,  3,  4,  5,  6,  7,  8,  9, 10, 11]), (12,), 12)"
      ]
     },
     "execution_count": 142,
     "metadata": {},
     "output_type": "execute_result"
    }
   ],
   "source": [
    "# numpy\n",
    "x = np.arange(12)\n",
    "x, x.shape, x.size"
   ]
  },
  {
   "cell_type": "code",
   "execution_count": 150,
   "metadata": {
    "ExecuteTime": {
     "end_time": "2020-04-25T13:42:00.761395Z",
     "start_time": "2020-04-25T13:42:00.752873Z"
    }
   },
   "outputs": [
    {
     "data": {
      "text/plain": [
       "(tensor([[ 0,  1,  2,  3],\n",
       "         [ 4,  5,  6,  7],\n",
       "         [ 8,  9, 10, 11]]), torch.Size([3, 4]), <function Tensor.size>)"
      ]
     },
     "execution_count": 150,
     "metadata": {},
     "output_type": "execute_result"
    }
   ],
   "source": [
    "x_reshape = x.reshape(3, -1)\n",
    "x_reshape, x_reshape.shape, x_reshape.size"
   ]
  },
  {
   "cell_type": "markdown",
   "metadata": {
    "ExecuteTime": {
     "end_time": "2020-04-25T14:00:36.790695Z",
     "start_time": "2020-04-25T14:00:36.785421Z"
    }
   },
   "source": [
    "#### pytorch"
   ]
  },
  {
   "cell_type": "code",
   "execution_count": 151,
   "metadata": {
    "ExecuteTime": {
     "end_time": "2020-04-25T13:42:12.368998Z",
     "start_time": "2020-04-25T13:42:12.359383Z"
    }
   },
   "outputs": [
    {
     "data": {
      "text/plain": [
       "(tensor([ 0,  1,  2,  3,  4,  5,  6,  7,  8,  9, 10, 11]),\n",
       " torch.Size([12]),\n",
       " torch.Size([12]))"
      ]
     },
     "execution_count": 151,
     "metadata": {},
     "output_type": "execute_result"
    }
   ],
   "source": [
    "# pytorch\n",
    "# tensor.size() 和 numpy 作用的不同\n",
    "x = torch.arange(12)\n",
    "x, x.shape, x.size()"
   ]
  },
  {
   "cell_type": "code",
   "execution_count": 153,
   "metadata": {
    "ExecuteTime": {
     "end_time": "2020-04-25T13:42:15.763070Z",
     "start_time": "2020-04-25T13:42:15.753573Z"
    }
   },
   "outputs": [
    {
     "data": {
      "text/plain": [
       "(tensor([[ 0,  1,  2,  3],\n",
       "         [ 4,  5,  6,  7],\n",
       "         [ 8,  9, 10, 11]]), torch.Size([3, 4]), torch.Size([3, 4]), 12)"
      ]
     },
     "execution_count": 153,
     "metadata": {},
     "output_type": "execute_result"
    }
   ],
   "source": [
    "x_reshape = x.reshape(3, -1)\n",
    "x_reshape, x_reshape.shape, x_reshape.size(), x.nelement()"
   ]
  },
  {
   "cell_type": "markdown",
   "metadata": {},
   "source": [
    "### 初始化: empty, zeros, ones"
   ]
  },
  {
   "cell_type": "markdown",
   "metadata": {
    "ExecuteTime": {
     "end_time": "2020-04-25T14:01:09.759925Z",
     "start_time": "2020-04-25T14:01:09.756596Z"
    }
   },
   "source": [
    "#### numpy"
   ]
  },
  {
   "cell_type": "code",
   "execution_count": 154,
   "metadata": {
    "ExecuteTime": {
     "end_time": "2020-04-25T13:53:44.905204Z",
     "start_time": "2020-04-25T13:53:44.896031Z"
    }
   },
   "outputs": [
    {
     "data": {
      "text/plain": [
       "(array([[8.39911598e-323, 0.00000000e+000, 0.00000000e+000,\n",
       "         4.82337433e+228, 6.14415221e-144, 1.16097020e-028],\n",
       "        [2.57706778e-057, 9.71810387e-067, 7.71446427e-043,\n",
       "         3.97062373e+246, 1.16318408e-028, 1.51981376e-051],\n",
       "        [1.22613517e-046, 5.99059159e-066, 1.57401788e+161,\n",
       "         5.04621361e+180, 8.37170571e-144, 5.01163195e+217],\n",
       "        [5.49419094e-143, 1.50008929e+248, 3.75598257e+199,\n",
       "         8.01238364e+165, 3.26756682e-032, 2.47197850e-056]]),\n",
       " array([[0., 0., 0.],\n",
       "        [0., 0., 0.]]),\n",
       " array([[1., 1., 1.],\n",
       "        [1., 1., 1.]]))"
      ]
     },
     "execution_count": 154,
     "metadata": {},
     "output_type": "execute_result"
    }
   ],
   "source": [
    "# np.empty_like\n",
    "# np.zeros_like\n",
    "# np.ones_like\n",
    "np.empty((4,6)), np.zeros((2,3)), np.ones((2,3))"
   ]
  },
  {
   "cell_type": "code",
   "execution_count": 155,
   "metadata": {
    "ExecuteTime": {
     "end_time": "2020-04-25T13:55:22.318540Z",
     "start_time": "2020-04-25T13:55:22.304072Z"
    }
   },
   "outputs": [
    {
     "data": {
      "text/plain": [
       "array([[-0.74800845, -2.66295144,  0.14097163],\n",
       "       [-0.21949403, -0.35966057, -0.7769174 ]])"
      ]
     },
     "execution_count": 155,
     "metadata": {},
     "output_type": "execute_result"
    }
   ],
   "source": [
    "np.random.normal(0, 1, size=(2,3))"
   ]
  },
  {
   "cell_type": "markdown",
   "metadata": {},
   "source": [
    "#### pytorch"
   ]
  },
  {
   "cell_type": "code",
   "execution_count": 156,
   "metadata": {
    "ExecuteTime": {
     "end_time": "2020-04-25T13:56:28.466410Z",
     "start_time": "2020-04-25T13:56:28.441241Z"
    }
   },
   "outputs": [
    {
     "data": {
      "text/plain": [
       "(tensor([[ 0.0000e+00, -4.6566e-10,  0.0000e+00],\n",
       "         [-4.6566e-10,  1.4013e-44, -0.0000e+00]]), tensor([[0., 0., 0.],\n",
       "         [0., 0., 0.]]), tensor([[1., 1., 1.],\n",
       "         [1., 1., 1.]]))"
      ]
     },
     "execution_count": 156,
     "metadata": {},
     "output_type": "execute_result"
    }
   ],
   "source": [
    "# ~_like\n",
    "torch.empty((2,3)), torch.zeros((2,3)), torch.ones((2,3))"
   ]
  },
  {
   "cell_type": "code",
   "execution_count": 157,
   "metadata": {
    "ExecuteTime": {
     "end_time": "2020-04-25T13:57:29.540638Z",
     "start_time": "2020-04-25T13:57:29.517157Z"
    }
   },
   "outputs": [
    {
     "data": {
      "text/plain": [
       "tensor([[ 0.1203,  0.0653,  1.1552],\n",
       "        [ 0.0687, -1.2439, -1.6453]])"
      ]
     },
     "execution_count": 157,
     "metadata": {},
     "output_type": "execute_result"
    }
   ],
   "source": [
    "# normal distributions of mean=0, variance=1\n",
    "torch.randn(2, 3)"
   ]
  },
  {
   "cell_type": "code",
   "execution_count": 158,
   "metadata": {
    "ExecuteTime": {
     "end_time": "2020-04-25T14:46:54.750760Z",
     "start_time": "2020-04-25T14:46:54.720299Z"
    }
   },
   "outputs": [
    {
     "data": {
      "text/plain": [
       "tensor([[1.1110, 0.0872, 0.2613, 5.9212]])"
      ]
     },
     "execution_count": 158,
     "metadata": {},
     "output_type": "execute_result"
    }
   ],
   "source": [
    "torch.normal(2, 3, size=(1, 4))"
   ]
  },
  {
   "cell_type": "markdown",
   "metadata": {
    "ExecuteTime": {
     "end_time": "2020-04-25T14:02:34.800613Z",
     "start_time": "2020-04-25T14:02:34.796072Z"
    }
   },
   "source": [
    "#### pytorch <-> numpy"
   ]
  },
  {
   "cell_type": "code",
   "execution_count": 159,
   "metadata": {
    "ExecuteTime": {
     "end_time": "2020-04-25T14:02:56.471678Z",
     "start_time": "2020-04-25T14:02:56.456324Z"
    }
   },
   "outputs": [
    {
     "data": {
      "text/plain": [
       "array([1., 2.], dtype=float32)"
      ]
     },
     "execution_count": 159,
     "metadata": {},
     "output_type": "execute_result"
    }
   ],
   "source": [
    "torch.tensor([1.,2.]).numpy()"
   ]
  },
  {
   "cell_type": "code",
   "execution_count": 160,
   "metadata": {
    "ExecuteTime": {
     "end_time": "2020-04-25T14:40:32.226472Z",
     "start_time": "2020-04-25T14:40:32.197770Z"
    }
   },
   "outputs": [
    {
     "data": {
      "text/plain": [
       "tensor([1., 2.], dtype=torch.float64)"
      ]
     },
     "execution_count": 160,
     "metadata": {},
     "output_type": "execute_result"
    }
   ],
   "source": [
    "# torch.from_numpy(np.array([1.,2.]))\n",
    "torch.tensor(np.array([1.,2.]))"
   ]
  },
  {
   "cell_type": "markdown",
   "metadata": {},
   "source": [
    "### Operation: basic, broadcasting, indexing, slicing"
   ]
  },
  {
   "cell_type": "markdown",
   "metadata": {
    "ExecuteTime": {
     "end_time": "2020-04-25T14:48:26.748205Z",
     "start_time": "2020-04-25T14:48:26.744319Z"
    }
   },
   "source": [
    "#### numpy"
   ]
  },
  {
   "cell_type": "code",
   "execution_count": 161,
   "metadata": {
    "ExecuteTime": {
     "end_time": "2020-04-25T14:56:46.570490Z",
     "start_time": "2020-04-25T14:56:46.557260Z"
    }
   },
   "outputs": [
    {
     "data": {
      "text/plain": [
       "(array([ 3,  4,  6, 10]),\n",
       " array([-1,  0,  2,  6]),\n",
       " array([ 2,  4,  8, 16]),\n",
       " array([0.5, 1. , 2. , 4. ]),\n",
       " array([ 1,  4, 16, 64]))"
      ]
     },
     "execution_count": 161,
     "metadata": {},
     "output_type": "execute_result"
    }
   ],
   "source": [
    "x = np.array([1, 2, 4, 8])\n",
    "y = np.array([2, 2, 2, 2])\n",
    "x + y, x - y, x * y, x / y, x ** y  # The ** operator is exponentiation"
   ]
  },
  {
   "cell_type": "code",
   "execution_count": 162,
   "metadata": {},
   "outputs": [
    {
     "data": {
      "text/plain": [
       "array([[ 3,  4,  6, 10],\n",
       "       [ 3,  4,  6, 10],\n",
       "       [ 3,  4,  6, 10],\n",
       "       [ 3,  4,  6, 10]])"
      ]
     },
     "execution_count": 162,
     "metadata": {},
     "output_type": "execute_result"
    }
   ],
   "source": [
    "# Broadcasting\n",
    "x = x.reshape(1, 4)\n",
    "y = y.reshape(4, 1)\n",
    "x + y"
   ]
  },
  {
   "cell_type": "code",
   "execution_count": 163,
   "metadata": {},
   "outputs": [
    {
     "name": "stdout",
     "output_type": "stream",
     "text": [
      "[[ 0  1  2  3]\n",
      " [ 4  5  6  7]\n",
      " [ 8  9 10 11]]\n",
      "\n",
      "[ 8  9 10 11]\n",
      "\n",
      "[[ 4  5  6  7]\n",
      " [ 8  9 10 11]]\n",
      "\n",
      "[[ 1  2]\n",
      " [ 5  6]\n",
      " [ 9 10]]\n",
      "\n"
     ]
    }
   ],
   "source": [
    "# Indexing and Slicing\n",
    "x = np.arange(12).reshape((3,4))\n",
    "print(x, end='\\n\\n') \n",
    "print(x[-1], end='\\n\\n')\n",
    "print(x[1:3], end='\\n\\n') \n",
    "print(x[:,1:3], end='\\n\\n')"
   ]
  },
  {
   "cell_type": "markdown",
   "metadata": {
    "ExecuteTime": {
     "end_time": "2020-04-25T14:48:33.440727Z",
     "start_time": "2020-04-25T14:48:33.437155Z"
    }
   },
   "source": [
    "#### pytorch"
   ]
  },
  {
   "cell_type": "code",
   "execution_count": 164,
   "metadata": {
    "ExecuteTime": {
     "end_time": "2020-04-25T14:58:47.212416Z",
     "start_time": "2020-04-25T14:58:47.201866Z"
    }
   },
   "outputs": [
    {
     "data": {
      "text/plain": [
       "(tensor([ 3,  4,  6, 10]),\n",
       " tensor([-1,  0,  2,  6]),\n",
       " tensor([ 2,  4,  8, 16]),\n",
       " tensor([0, 1, 2, 4]),\n",
       " tensor([ 1,  4, 16, 64]))"
      ]
     },
     "execution_count": 164,
     "metadata": {},
     "output_type": "execute_result"
    }
   ],
   "source": [
    "x = torch.tensor([1, 2, 4, 8])\n",
    "y = torch.tensor([2, 2, 2, 2])\n",
    "x + y, x - y, x * y, x / y, x ** y"
   ]
  },
  {
   "cell_type": "code",
   "execution_count": 165,
   "metadata": {
    "ExecuteTime": {
     "end_time": "2020-04-25T14:58:48.848899Z",
     "start_time": "2020-04-25T14:58:48.840734Z"
    }
   },
   "outputs": [
    {
     "data": {
      "text/plain": [
       "(tensor([ 1,  4, 16, 64]), tensor([ 1,  4, 16, 64]), tensor([ 1,  4, 16, 64]))"
      ]
     },
     "execution_count": 165,
     "metadata": {},
     "output_type": "execute_result"
    }
   ],
   "source": [
    "x**2, x*x, x.pow(2)"
   ]
  },
  {
   "cell_type": "code",
   "execution_count": 166,
   "metadata": {},
   "outputs": [
    {
     "data": {
      "text/plain": [
       "tensor([[ 3,  3,  3,  3],\n",
       "        [ 4,  4,  4,  4],\n",
       "        [ 6,  6,  6,  6],\n",
       "        [10, 10, 10, 10]])"
      ]
     },
     "execution_count": 166,
     "metadata": {},
     "output_type": "execute_result"
    }
   ],
   "source": [
    "# Broadcasting\n",
    "x = x.reshape(4, 1)\n",
    "y = y.reshape(1, 4)\n",
    "x + y"
   ]
  },
  {
   "cell_type": "code",
   "execution_count": 167,
   "metadata": {},
   "outputs": [
    {
     "name": "stdout",
     "output_type": "stream",
     "text": [
      "tensor([[ 0,  1,  2,  3],\n",
      "        [ 4,  5,  6,  7],\n",
      "        [ 8,  9, 10, 11]])\n",
      "\n",
      "tensor([ 8,  9, 10, 11])\n",
      "\n",
      "tensor([[ 4,  5,  6,  7],\n",
      "        [ 8,  9, 10, 11]])\n",
      "\n",
      "tensor([[ 1,  2],\n",
      "        [ 5,  6],\n",
      "        [ 9, 10]])\n",
      "\n"
     ]
    }
   ],
   "source": [
    "# Indexing and Slicing\n",
    "x = torch.arange(12).reshape((3,4))\n",
    "print(x, end='\\n\\n') \n",
    "print(x[-1], end='\\n\\n')\n",
    "print(x[1:3], end='\\n\\n') \n",
    "print(x[:,1:3], end='\\n\\n')"
   ]
  },
  {
   "cell_type": "markdown",
   "metadata": {},
   "source": [
    "### Operation: Hadamard product, reduction (sum, mean, cumsum)"
   ]
  },
  {
   "cell_type": "markdown",
   "metadata": {},
   "source": [
    "#### numpy"
   ]
  },
  {
   "cell_type": "code",
   "execution_count": 177,
   "metadata": {},
   "outputs": [
    {
     "name": "stdout",
     "output_type": "stream",
     "text": [
      "[[ 0  1  2  3]\n",
      " [ 4  5  6  7]\n",
      " [ 8  9 10 11]]\n",
      "\n",
      "[[  0   1   4   9]\n",
      " [ 16  25  36  49]\n",
      " [ 64  81 100 121]]\n"
     ]
    }
   ],
   "source": [
    "A = np.arange(12).reshape((3, 4))\n",
    "print(A, end='\\n\\n')\n",
    "print(A*A)"
   ]
  },
  {
   "cell_type": "code",
   "execution_count": 178,
   "metadata": {},
   "outputs": [
    {
     "name": "stdout",
     "output_type": "stream",
     "text": [
      "66\n",
      "\n",
      "[12 15 18 21]\n",
      "\n",
      "[ 6 22 38]\n",
      "\n",
      "[[ 6]\n",
      " [22]\n",
      " [38]]\n",
      "\n",
      "tensor(20.6578)\n",
      "\n"
     ]
    }
   ],
   "source": [
    "print(A.sum(), end='\\n\\n')\n",
    "print(A.sum(axis=0), end='\\n\\n')\n",
    "print(A.sum(axis=1), end='\\n\\n')\n",
    "print(A.sum(axis=1, keepdims=True), end='\\n\\n')\n",
    "print(a.sum(axis=0).sum(axis=0), end='\\n\\n')"
   ]
  },
  {
   "cell_type": "code",
   "execution_count": 180,
   "metadata": {},
   "outputs": [
    {
     "name": "stdout",
     "output_type": "stream",
     "text": [
      "5.5 5.5\n",
      "[4. 5. 6. 7.] [4. 5. 6. 7.]\n",
      "[1.5 5.5 9.5] [1.5 5.5 9.5]\n"
     ]
    }
   ],
   "source": [
    "print(A.mean(), A.sum()/A.size)\n",
    "print(A.mean(axis=0), A.sum(axis=0)/A.shape[0])\n",
    "print(A.mean(axis=1), A.sum(axis=1)/A.shape[1])"
   ]
  },
  {
   "cell_type": "code",
   "execution_count": 181,
   "metadata": {},
   "outputs": [
    {
     "data": {
      "text/plain": [
       "array([[ 0,  1,  2,  3],\n",
       "       [ 4,  6,  8, 10],\n",
       "       [12, 15, 18, 21]])"
      ]
     },
     "execution_count": 181,
     "metadata": {},
     "output_type": "execute_result"
    }
   ],
   "source": [
    "A.cumsum(axis=0)"
   ]
  },
  {
   "cell_type": "markdown",
   "metadata": {},
   "source": [
    "#### pytorch"
   ]
  },
  {
   "cell_type": "code",
   "execution_count": 182,
   "metadata": {},
   "outputs": [
    {
     "name": "stdout",
     "output_type": "stream",
     "text": [
      "tensor([[ 0.,  1.,  2.,  3.],\n",
      "        [ 4.,  5.,  6.,  7.],\n",
      "        [ 8.,  9., 10., 11.]])\n",
      "\n",
      "tensor([[  0.,   1.,   4.,   9.],\n",
      "        [ 16.,  25.,  36.,  49.],\n",
      "        [ 64.,  81., 100., 121.]])\n"
     ]
    }
   ],
   "source": [
    "A = torch.arange(12, dtype=torch.float32).reshape((3, 4))\n",
    "print(A, end='\\n\\n')\n",
    "print(A*A)"
   ]
  },
  {
   "cell_type": "code",
   "execution_count": 183,
   "metadata": {},
   "outputs": [
    {
     "name": "stdout",
     "output_type": "stream",
     "text": [
      "tensor(66.)\n",
      "\n",
      "tensor([12., 15., 18., 21.])\n",
      "\n",
      "tensor([ 6., 22., 38.])\n",
      "\n",
      "tensor([[ 6.],\n",
      "        [22.],\n",
      "        [38.]])\n",
      "\n",
      "tensor(66.)\n",
      "\n"
     ]
    }
   ],
   "source": [
    "print(A.sum(), end='\\n\\n')\n",
    "print(A.sum(dim=0), end='\\n\\n')\n",
    "print(A.sum(dim=1), end='\\n\\n')\n",
    "print(A.sum(dim=1, keepdim=True), end='\\n\\n')\n",
    "print(A.sum(dim=[0,1]), end='\\n\\n')"
   ]
  },
  {
   "cell_type": "code",
   "execution_count": 184,
   "metadata": {},
   "outputs": [
    {
     "name": "stdout",
     "output_type": "stream",
     "text": [
      "tensor(5.5000) tensor(5.5000)\n",
      "tensor([4., 5., 6., 7.]) tensor([4., 5., 6., 7.])\n"
     ]
    }
   ],
   "source": [
    "print(A.mean(), A.sum()/A.nelement())\n",
    "print(A.mean(dim=0), A.sum(dim=0)/A.shape[0])"
   ]
  },
  {
   "cell_type": "markdown",
   "metadata": {},
   "source": [
    "### Operation: Linear Algebra: matrix\\*vector, matrix\\*matrix, norms"
   ]
  },
  {
   "cell_type": "markdown",
   "metadata": {},
   "source": [
    "#### numpy"
   ]
  },
  {
   "cell_type": "code",
   "execution_count": 185,
   "metadata": {},
   "outputs": [
    {
     "name": "stdout",
     "output_type": "stream",
     "text": [
      "l1 7.0 7.0\n",
      "l2 5.0\n",
      "Frobenius norm 6.0\n"
     ]
    }
   ],
   "source": [
    "x = np.array([3., 4.])\n",
    "A = np.ones((4, 9))\n",
    "print('l1', np.linalg.norm(x, ord=1), np.abs(x).sum())\n",
    "print('l2', np.linalg.norm(x))\n",
    "print('Frobenius norm', np.linalg.norm(A))"
   ]
  },
  {
   "cell_type": "markdown",
   "metadata": {},
   "source": [
    "#### pytorch"
   ]
  },
  {
   "cell_type": "code",
   "execution_count": 186,
   "metadata": {},
   "outputs": [
    {
     "name": "stdout",
     "output_type": "stream",
     "text": [
      "l1 tensor(7.) tensor(7.)\n",
      "l2 tensor(5.)\n",
      "Frobenius norm tensor(6.)\n"
     ]
    }
   ],
   "source": [
    "x = torch.tensor([3., 4.])\n",
    "A = torch.ones((4, 9))\n",
    "print('l1', torch.norm(x, p=1), torch.abs(x).sum())\n",
    "print('l2', torch.norm(x))\n",
    "print('Frobenius norm', torch.norm(A))"
   ]
  },
  {
   "cell_type": "markdown",
   "metadata": {},
   "source": [
    "#### numpy"
   ]
  },
  {
   "cell_type": "code",
   "execution_count": 187,
   "metadata": {},
   "outputs": [
    {
     "name": "stdout",
     "output_type": "stream",
     "text": [
      "[14 38 62]\n",
      "\n",
      "[[114 120 126]\n",
      " [378 400 422]\n",
      " [642 680 718]]\n",
      "\n"
     ]
    }
   ],
   "source": [
    "A = np.arange(12).reshape((3,4))\n",
    "B = np.arange(12, 24).reshape((4,3))\n",
    "x = np.arange(4)\n",
    "A, B, x\n",
    "\n",
    "print(A.dot(x), end='\\n\\n')\n",
    "print(A.dot(B), end='\\n\\n')"
   ]
  },
  {
   "cell_type": "markdown",
   "metadata": {},
   "source": [
    "#### pytorch"
   ]
  },
  {
   "cell_type": "code",
   "execution_count": 188,
   "metadata": {},
   "outputs": [
    {
     "name": "stdout",
     "output_type": "stream",
     "text": [
      "tensor([14, 38, 62])\n",
      "\n",
      "tensor([[114, 120, 126],\n",
      "        [378, 400, 422],\n",
      "        [642, 680, 718]])\n",
      "\n"
     ]
    }
   ],
   "source": [
    "A = torch.arange(12).reshape((3,4))\n",
    "B = torch.arange(12, 24).reshape((4,3))\n",
    "x = torch.arange(4)\n",
    "A, B, x\n",
    "\n",
    "print(torch.mv(A, x), end='\\n\\n')\n",
    "print(torch.mm(A, B), end='\\n\\n')"
   ]
  },
  {
   "cell_type": "markdown",
   "metadata": {
    "ExecuteTime": {
     "end_time": "2020-04-25T14:56:17.373556Z",
     "start_time": "2020-04-25T14:56:17.370810Z"
    }
   },
   "source": [
    "### saving memory\n",
    "\n",
    "`+=`, `[:]` 操作都不会创建新的对象, 而会复用内存"
   ]
  },
  {
   "cell_type": "code",
   "execution_count": 189,
   "metadata": {
    "ExecuteTime": {
     "end_time": "2020-04-25T14:54:20.190013Z",
     "start_time": "2020-04-25T14:54:20.181619Z"
    }
   },
   "outputs": [
    {
     "name": "stdout",
     "output_type": "stream",
     "text": [
      "4871180736\n",
      "4871180736\n",
      "4871180736\n",
      "4871181616\n"
     ]
    }
   ],
   "source": [
    "# https://d2l.ai/chapter_preliminaries/ndarray.html#saving-memory\n",
    "\n",
    "a = np.random.normal(size=(2,3))\n",
    "print(id(a))\n",
    "a += 1\n",
    "print(id(a))\n",
    "a[:] = a + 1\n",
    "print(id(a))\n",
    "a = a + 1\n",
    "print(id(a))"
   ]
  },
  {
   "cell_type": "code",
   "execution_count": 190,
   "metadata": {
    "ExecuteTime": {
     "end_time": "2020-04-25T14:55:04.965893Z",
     "start_time": "2020-04-25T14:55:04.949883Z"
    },
    "scrolled": true
   },
   "outputs": [
    {
     "name": "stdout",
     "output_type": "stream",
     "text": [
      "4841101712\n",
      "4841101712\n",
      "4841101712\n",
      "4836010312\n"
     ]
    }
   ],
   "source": [
    "a = torch.randn(size=(2,3))\n",
    "print(id(a))\n",
    "a += 1\n",
    "print(id(a))\n",
    "a[:] = a + 1\n",
    "print(id(a))\n",
    "a = a + 1\n",
    "print(id(a))"
   ]
  },
  {
   "cell_type": "code",
   "execution_count": null,
   "metadata": {},
   "outputs": [],
   "source": []
  },
  {
   "cell_type": "code",
   "execution_count": null,
   "metadata": {},
   "outputs": [],
   "source": []
  }
 ],
 "metadata": {
  "kernelspec": {
   "display_name": "Python 3",
   "language": "python",
   "name": "python3"
  },
  "language_info": {
   "codemirror_mode": {
    "name": "ipython",
    "version": 3
   },
   "file_extension": ".py",
   "mimetype": "text/x-python",
   "name": "python",
   "nbconvert_exporter": "python",
   "pygments_lexer": "ipython3",
   "version": "3.7.3"
  },
  "toc": {
   "base_numbering": 1,
   "nav_menu": {},
   "number_sections": true,
   "sideBar": true,
   "skip_h1_title": false,
   "title_cell": "Table of Contents",
   "title_sidebar": "Contents",
   "toc_cell": false,
   "toc_position": {},
   "toc_section_display": true,
   "toc_window_display": true
  },
  "toc-autonumbering": false,
  "toc-showcode": false
 },
 "nbformat": 4,
 "nbformat_minor": 4
}
