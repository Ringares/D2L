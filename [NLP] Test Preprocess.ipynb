{
 "cells": [
  {
   "cell_type": "code",
   "execution_count": 3,
   "metadata": {},
   "outputs": [],
   "source": [
    "import torch\n",
    "import torch.nn as nn\n",
    "import torchviz\n",
    "import sys; sys.path.insert(0, '../')\n",
    "from exp import nb_d2l_utils"
   ]
  },
  {
   "cell_type": "code",
   "execution_count": 4,
   "metadata": {},
   "outputs": [],
   "source": [
    "### For EN Text"
   ]
  },
  {
   "cell_type": "code",
   "execution_count": 5,
   "metadata": {},
   "outputs": [],
   "source": [
    "import collections\n",
    "class Vocab(object):  # This class is saved in d2l.\n",
    "    def __init__(self, tokens, min_freq=0, use_special_tokens=False):\n",
    "        # sort by frequency and token\n",
    "        counter = collections.Counter(tokens)\n",
    "        token_freqs = sorted(counter.items(), key=lambda x: x[0])\n",
    "        token_freqs.sort(key=lambda x: x[1], reverse=True)\n",
    "        if use_special_tokens:\n",
    "            # padding, begin of sentence, end of sentence, unknown\n",
    "            self.pad, self.bos, self.eos, self.unk = (0, 1, 2, 3)\n",
    "            tokens = ['<pad>', '<bos>', '<eos>', '<unk>']\n",
    "        else:\n",
    "            self.unk = 0\n",
    "            tokens = ['<unk>']\n",
    "        tokens +=  [token for token, freq in token_freqs if freq >= min_freq]\n",
    "        self.idx_to_token = []\n",
    "        self.token_to_idx = dict()\n",
    "        for token in tokens:\n",
    "            self.idx_to_token.append(token)\n",
    "            self.token_to_idx[token] = len(self.idx_to_token) - 1\n",
    "\n",
    "    def __len__(self):\n",
    "        return len(self.idx_to_token)\n",
    "\n",
    "    def __getitem__(self, tokens):\n",
    "        if not isinstance(tokens, (list, tuple)):\n",
    "            return self.token_to_idx.get(tokens, self.unk)\n",
    "        else:\n",
    "            return [self.__getitem__(token) for token in tokens]\n",
    "\n",
    "    def to_tokens(self, indices):\n",
    "        if not isinstance(indices, (list, tuple)):\n",
    "            return self.idx_to_token[indices]\n",
    "        else:\n",
    "            return [self.idx_to_token[index] for index in indices]"
   ]
  },
  {
   "cell_type": "code",
   "execution_count": 6,
   "metadata": {},
   "outputs": [],
   "source": [
    "def en_pre_process(raw_text):\n",
    "    lines = raw_text.split('\\n')\n",
    "    text = ' '.join(' '.join(lines).lower().split())\n",
    "    vocab = Vocab(text)\n",
    "    return [vocab[i] for i in text], vocab"
   ]
  },
  {
   "cell_type": "code",
   "execution_count": 7,
   "metadata": {},
   "outputs": [],
   "source": [
    "# 连续采样\n",
    "import random\n",
    "def data_iter_consecutive(corpus_indices, batch_size, num_steps, device=None):\n",
    "    # Offset for the iterator over the data for uniform starts\n",
    "    offset = int(random.uniform(0,num_steps))\n",
    "    # Slice out data - ignore num_steps and just wrap around\n",
    "    num_indices = ((len(corpus_indices) - offset) // batch_size) * batch_size\n",
    "    indices = torch.Tensor(corpus_indices[offset:(offset + num_indices)], device=device)\n",
    "    indices = indices.reshape((batch_size,-1))\n",
    "    # Need to leave one last token since targets are shifted by 1\n",
    "    num_epochs = (num_indices // batch_size - 1) // num_steps\n",
    "\n",
    "    for i in range(0, num_epochs * num_steps, num_steps):\n",
    "        X = indices[:,i:(i+num_steps)]\n",
    "        Y = indices[:,(i+1):(i+1+num_steps)]\n",
    "        yield X, Y"
   ]
  },
  {
   "cell_type": "code",
   "execution_count": 10,
   "metadata": {},
   "outputs": [],
   "source": [
    "with open('./data/timemachine.txt', 'r') as f:\n",
    "    raw_text = f.read()\n",
    "\n",
    "corpus_indices, vocab = en_pre_process(raw_text)\n",
    "dataloader = data_iter_consecutive(corpus_indices, 3, num_steps)"
   ]
  },
  {
   "cell_type": "code",
   "execution_count": 27,
   "metadata": {},
   "outputs": [
    {
     "name": "stdout",
     "output_type": "stream",
     "text": [
      "tensor([[24.,  2., 12., 12.,  2., 10.,  1., 38., 16.,  7.],\n",
      "        [24.,  5.,  3.,  4., 12.,  5.,  3., 19.,  1.,  3.],\n",
      "        [15.,  5.,  2.,  8., 21.,  1.,  4.,  6., 11.,  1.]])\n",
      "tensor([[ 2., 12., 12.,  2., 10.,  1., 38., 16.,  7., 10.],\n",
      "        [ 5.,  3.,  4., 12.,  5.,  3., 19.,  1.,  3.,  7.],\n",
      "        [ 5.,  2.,  8., 21.,  1.,  4.,  6., 11.,  1., 16.]])\n",
      "['v', 'e', 'l', 'l', 'e', 'r', ' ', '(', 'f', 'o']\n",
      "['v', 'i', 't', 'a', 'l', 'i', 't', 'y', ' ', 't']\n",
      "['c', 'i', 'e', 's', ',', ' ', 'a', 'n', 'd', ' ']\n"
     ]
    }
   ],
   "source": [
    "for X, Y in dataloader:\n",
    "    print(X)\n",
    "    print(Y)\n",
    "    for i in X:\n",
    "        print(vocab.to_tokens([int(i) for i in i]))\n",
    "    break"
   ]
  },
  {
   "cell_type": "code",
   "execution_count": null,
   "metadata": {},
   "outputs": [],
   "source": []
  },
  {
   "cell_type": "code",
   "execution_count": 28,
   "metadata": {},
   "outputs": [],
   "source": [
    "### For CN Text"
   ]
  },
  {
   "cell_type": "code",
   "execution_count": 44,
   "metadata": {},
   "outputs": [],
   "source": [
    "def cn_pre_process(raw_text):\n",
    "    text = raw_text.replace('\\n', ' ')\n",
    "    vocab = Vocab(text, min_freq=5)\n",
    "    return [vocab[i] for i in text], vocab"
   ]
  },
  {
   "cell_type": "code",
   "execution_count": 45,
   "metadata": {},
   "outputs": [],
   "source": [
    "with open('./data/jaychou_lyrics.txt', 'r') as f:\n",
    "    raw_text = f.read()"
   ]
  },
  {
   "cell_type": "code",
   "execution_count": 46,
   "metadata": {},
   "outputs": [],
   "source": [
    "corpus_indices, vocab = cn_pre_process(raw_text)\n",
    "dataloader = data_iter_consecutive(corpus_indices, 3, num_steps)"
   ]
  },
  {
   "cell_type": "code",
   "execution_count": 47,
   "metadata": {},
   "outputs": [
    {
     "name": "stdout",
     "output_type": "stream",
     "text": [
      "tensor([[1.4000e+01, 1.9000e+01, 2.3400e+02, 4.0000e+00, 2.0000e+02, 2.4000e+01,\n",
      "         1.0050e+03, 1.0060e+03, 4.2000e+01, 1.0000e+00],\n",
      "        [1.1000e+01, 6.5000e+01, 1.0290e+03, 0.0000e+00, 6.7000e+01, 2.8700e+02,\n",
      "         1.0000e+00, 4.1500e+02, 1.1270e+03, 2.0000e+00],\n",
      "        [2.6100e+02, 7.7000e+02, 8.2000e+01, 4.7000e+01, 2.1000e+01, 2.2000e+01,\n",
      "         9.0000e+00, 7.2200e+02, 9.8000e+01, 4.3600e+02]])\n",
      "tensor([[1.9000e+01, 2.3400e+02, 4.0000e+00, 2.0000e+02, 2.4000e+01, 1.0050e+03,\n",
      "         1.0060e+03, 4.2000e+01, 1.0000e+00, 1.4000e+01],\n",
      "        [6.5000e+01, 1.0290e+03, 0.0000e+00, 6.7000e+01, 2.8700e+02, 1.0000e+00,\n",
      "         4.1500e+02, 1.1270e+03, 2.0000e+00, 1.9800e+02],\n",
      "        [7.7000e+02, 8.2000e+01, 4.7000e+01, 2.1000e+01, 2.2000e+01, 9.0000e+00,\n",
      "         7.2200e+02, 9.8000e+01, 4.3600e+02, 0.0000e+00]])\n",
      "['想', '要', '和', '你', '飞', '到', '宇', '宙', '去', ' ']\n",
      "['\\u3000', '像', '欧', '<unk>', '情', '调', ' ', '书', '框', '的']\n",
      "['两', '块', '空', '地', '那', '就', '是', '勇', '气', '与']\n"
     ]
    }
   ],
   "source": [
    "for X, Y in dataloader:\n",
    "    print(X)\n",
    "    print(Y)\n",
    "    for i in X:\n",
    "        print(vocab.to_tokens([int(i) for i in i]))\n",
    "    break"
   ]
  },
  {
   "cell_type": "code",
   "execution_count": null,
   "metadata": {},
   "outputs": [],
   "source": []
  }
 ],
 "metadata": {
  "kernelspec": {
   "display_name": "Python 3",
   "language": "python",
   "name": "python3"
  },
  "language_info": {
   "codemirror_mode": {
    "name": "ipython",
    "version": 3
   },
   "file_extension": ".py",
   "mimetype": "text/x-python",
   "name": "python",
   "nbconvert_exporter": "python",
   "pygments_lexer": "ipython3",
   "version": "3.7.3"
  }
 },
 "nbformat": 4,
 "nbformat_minor": 4
}
